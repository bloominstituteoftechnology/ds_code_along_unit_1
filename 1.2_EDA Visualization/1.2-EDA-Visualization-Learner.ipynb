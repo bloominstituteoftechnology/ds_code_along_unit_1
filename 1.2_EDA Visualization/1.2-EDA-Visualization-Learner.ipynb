{
 "cells": [
  {
   "cell_type": "markdown",
   "id": "d8348848",
   "metadata": {
    "id": "d8348848"
   },
   "source": [
    "Jump to [Part 1](#Step1)\n"
   ]
  },
  {
   "cell_type": "markdown",
   "id": "75061b5c",
   "metadata": {
    "id": "75061b5c"
   },
   "source": [
    "# Objectives: \n",
    "\n",
    "Buying a house is a stressful process. We want to use machine learning to provide additional information. In this notebook, we want to build a model to predict the prices of residential homes in Ames, Iowa. This model will provide buyers with a rough estimate of what the houses are actually worth. \n",
    "\n",
    "\n",
    "## This notebook is divided into 4 sections:\n",
    "* Data Description\n",
    "* Exploratory Data Analyis or EDA (in short)\n",
    "    * Load and understand the data using pandas \n",
    "    * Variable identification\n",
    "    * Univariate analysis \n",
    "        * Target variable analysis\n",
    "        * Deal with Missing values \n",
    "        * Generating new features \n",
    "        * Transforming Categorical Variables using Scikit-Learn \n",
    "        * Check skewness or distribution of numeric variables\n",
    "        * Getting dummy categorical features.\n",
    "    * Multivariate analysis \n",
    "        * Correlation matrix\n",
    "        * Relation Exploration for Few Numerical Variables and categorical features\n",
    "        * Dealing with Outliers \n",
    "* Feature selection using Wrapper Methods \n",
    "    * Forward selection\n",
    "* Preditct house prices (linear regression and XGBOOSTER) \n",
    "    * About Linear Regression \n",
    "    * Linear Regression using Statsmodels\n",
    "    * Interpreting the Regression Results\n",
    "    * Making Predictions based on the Regression Results\n",
    "    * Predict house price using sklearn linear regression and XGBRegressor\n",
    "        * Splitting the dataset into training and testing \n",
    "        * Build models (Linear Regression and XGBRegressor) "
   ]
  },
  {
   "cell_type": "markdown",
   "id": "cb1b72b1",
   "metadata": {
    "id": "cb1b72b1"
   },
   "source": [
    "\n",
    "# Data Description\n",
    "The files given are:\n",
    "\n",
    "1. train.csv: This is the dataset that we are gonna use to train our model to give predictions. SalePrice is theproperty's sale price in dollars. This is the target variable that we are trying to predict.\n",
    "2. test.csv: The test set will be used to see how well our model performs on unseen data. For the test set, we do not provide the Target variable i.e, SalePrice. It is our job to predict these outcomes. For each passenger in the house, we use the model that we trained to predict the price of the house.\n",
    "3. data_description.txt: This gives us the full description of each column, originally prepared by Dean De Cock but lightly edited to match the column names used here.\n",
    "4. sample_submission.csv: a benchmark submission from a linear regression on year and month of sale, lot square footage, and number of bedrooms. This serves as an example of how our submission should look like.\n",
    "\n",
    "You can find all the files in the \"House Prices - Advanced Regression Techniques\" Kaggle competition url: https://www.kaggle.com/competitions/house-prices-advanced-regression-techniques/overview"
   ]
  },
  {
   "cell_type": "markdown",
   "id": "e3f526de",
   "metadata": {
    "id": "e3f526de"
   },
   "source": [
    "# Exploratory Data Analysis (EDA)"
   ]
  },
  {
   "cell_type": "markdown",
   "id": "723e0fdd",
   "metadata": {
    "id": "723e0fdd"
   },
   "source": [
    "## Importing the Libraries"
   ]
  },
  {
   "cell_type": "code",
   "execution_count": 1,
   "id": "793474d4",
   "metadata": {
    "id": "793474d4"
   },
   "outputs": [],
   "source": [
    "import numpy as np                 # linear algebra\n",
    "import pandas as pd                # data processing, CSV file I/O (e.g. pd.read_csv)\n",
    "from scipy import stats            # for some statistics\n",
    "from scipy.stats import norm, skew # for some statistics\n",
    "import seaborn as sns              # plot\n",
    "import matplotlib.pyplot as plt    # plot \n",
    "%matplotlib inline"
   ]
  },
  {
   "cell_type": "markdown",
   "id": "c8405480",
   "metadata": {
    "id": "c8405480"
   },
   "source": [
    "## Load and understand the dataset using pandas\n",
    "\n",
    "This is how we assign the datasets to variables in python using pandas."
   ]
  },
  {
   "cell_type": "code",
   "execution_count": 4,
   "id": "08b2b57f",
   "metadata": {
    "id": "08b2b57f",
    "outputId": "78d0fce8-64fe-4679-916b-443e9a2e2070"
   },
   "outputs": [
    {
     "data": {
      "text/html": [
       "<div>\n",
       "<style scoped>\n",
       "    .dataframe tbody tr th:only-of-type {\n",
       "        vertical-align: middle;\n",
       "    }\n",
       "\n",
       "    .dataframe tbody tr th {\n",
       "        vertical-align: top;\n",
       "    }\n",
       "\n",
       "    .dataframe thead th {\n",
       "        text-align: right;\n",
       "    }\n",
       "</style>\n",
       "<table border=\"1\" class=\"dataframe\">\n",
       "  <thead>\n",
       "    <tr style=\"text-align: right;\">\n",
       "      <th></th>\n",
       "      <th>mpg</th>\n",
       "      <th>cylinders</th>\n",
       "      <th>displacement</th>\n",
       "      <th>horsepower</th>\n",
       "      <th>weight</th>\n",
       "      <th>acceleration</th>\n",
       "      <th>model_year</th>\n",
       "      <th>origin</th>\n",
       "      <th>name</th>\n",
       "    </tr>\n",
       "  </thead>\n",
       "  <tbody>\n",
       "    <tr>\n",
       "      <th>0</th>\n",
       "      <td>18.0</td>\n",
       "      <td>8</td>\n",
       "      <td>307.0</td>\n",
       "      <td>130.0</td>\n",
       "      <td>3504</td>\n",
       "      <td>12.0</td>\n",
       "      <td>70</td>\n",
       "      <td>usa</td>\n",
       "      <td>chevrolet chevelle malibu</td>\n",
       "    </tr>\n",
       "    <tr>\n",
       "      <th>1</th>\n",
       "      <td>15.0</td>\n",
       "      <td>8</td>\n",
       "      <td>350.0</td>\n",
       "      <td>165.0</td>\n",
       "      <td>3693</td>\n",
       "      <td>11.5</td>\n",
       "      <td>70</td>\n",
       "      <td>usa</td>\n",
       "      <td>buick skylark 320</td>\n",
       "    </tr>\n",
       "    <tr>\n",
       "      <th>2</th>\n",
       "      <td>18.0</td>\n",
       "      <td>8</td>\n",
       "      <td>318.0</td>\n",
       "      <td>150.0</td>\n",
       "      <td>3436</td>\n",
       "      <td>11.0</td>\n",
       "      <td>70</td>\n",
       "      <td>usa</td>\n",
       "      <td>plymouth satellite</td>\n",
       "    </tr>\n",
       "    <tr>\n",
       "      <th>3</th>\n",
       "      <td>16.0</td>\n",
       "      <td>8</td>\n",
       "      <td>304.0</td>\n",
       "      <td>150.0</td>\n",
       "      <td>3433</td>\n",
       "      <td>12.0</td>\n",
       "      <td>70</td>\n",
       "      <td>usa</td>\n",
       "      <td>amc rebel sst</td>\n",
       "    </tr>\n",
       "    <tr>\n",
       "      <th>4</th>\n",
       "      <td>17.0</td>\n",
       "      <td>8</td>\n",
       "      <td>302.0</td>\n",
       "      <td>140.0</td>\n",
       "      <td>3449</td>\n",
       "      <td>10.5</td>\n",
       "      <td>70</td>\n",
       "      <td>usa</td>\n",
       "      <td>ford torino</td>\n",
       "    </tr>\n",
       "    <tr>\n",
       "      <th>...</th>\n",
       "      <td>...</td>\n",
       "      <td>...</td>\n",
       "      <td>...</td>\n",
       "      <td>...</td>\n",
       "      <td>...</td>\n",
       "      <td>...</td>\n",
       "      <td>...</td>\n",
       "      <td>...</td>\n",
       "      <td>...</td>\n",
       "    </tr>\n",
       "    <tr>\n",
       "      <th>393</th>\n",
       "      <td>27.0</td>\n",
       "      <td>4</td>\n",
       "      <td>140.0</td>\n",
       "      <td>86.0</td>\n",
       "      <td>2790</td>\n",
       "      <td>15.6</td>\n",
       "      <td>82</td>\n",
       "      <td>usa</td>\n",
       "      <td>ford mustang gl</td>\n",
       "    </tr>\n",
       "    <tr>\n",
       "      <th>394</th>\n",
       "      <td>44.0</td>\n",
       "      <td>4</td>\n",
       "      <td>97.0</td>\n",
       "      <td>52.0</td>\n",
       "      <td>2130</td>\n",
       "      <td>24.6</td>\n",
       "      <td>82</td>\n",
       "      <td>europe</td>\n",
       "      <td>vw pickup</td>\n",
       "    </tr>\n",
       "    <tr>\n",
       "      <th>395</th>\n",
       "      <td>32.0</td>\n",
       "      <td>4</td>\n",
       "      <td>135.0</td>\n",
       "      <td>84.0</td>\n",
       "      <td>2295</td>\n",
       "      <td>11.6</td>\n",
       "      <td>82</td>\n",
       "      <td>usa</td>\n",
       "      <td>dodge rampage</td>\n",
       "    </tr>\n",
       "    <tr>\n",
       "      <th>396</th>\n",
       "      <td>28.0</td>\n",
       "      <td>4</td>\n",
       "      <td>120.0</td>\n",
       "      <td>79.0</td>\n",
       "      <td>2625</td>\n",
       "      <td>18.6</td>\n",
       "      <td>82</td>\n",
       "      <td>usa</td>\n",
       "      <td>ford ranger</td>\n",
       "    </tr>\n",
       "    <tr>\n",
       "      <th>397</th>\n",
       "      <td>31.0</td>\n",
       "      <td>4</td>\n",
       "      <td>119.0</td>\n",
       "      <td>82.0</td>\n",
       "      <td>2720</td>\n",
       "      <td>19.4</td>\n",
       "      <td>82</td>\n",
       "      <td>usa</td>\n",
       "      <td>chevy s-10</td>\n",
       "    </tr>\n",
       "  </tbody>\n",
       "</table>\n",
       "<p>398 rows × 9 columns</p>\n",
       "</div>"
      ],
      "text/plain": [
       "      mpg  cylinders  displacement  horsepower  weight  acceleration  \\\n",
       "0    18.0          8         307.0       130.0    3504          12.0   \n",
       "1    15.0          8         350.0       165.0    3693          11.5   \n",
       "2    18.0          8         318.0       150.0    3436          11.0   \n",
       "3    16.0          8         304.0       150.0    3433          12.0   \n",
       "4    17.0          8         302.0       140.0    3449          10.5   \n",
       "..    ...        ...           ...         ...     ...           ...   \n",
       "393  27.0          4         140.0        86.0    2790          15.6   \n",
       "394  44.0          4          97.0        52.0    2130          24.6   \n",
       "395  32.0          4         135.0        84.0    2295          11.6   \n",
       "396  28.0          4         120.0        79.0    2625          18.6   \n",
       "397  31.0          4         119.0        82.0    2720          19.4   \n",
       "\n",
       "     model_year  origin                       name  \n",
       "0            70     usa  chevrolet chevelle malibu  \n",
       "1            70     usa          buick skylark 320  \n",
       "2            70     usa         plymouth satellite  \n",
       "3            70     usa              amc rebel sst  \n",
       "4            70     usa                ford torino  \n",
       "..          ...     ...                        ...  \n",
       "393          82     usa            ford mustang gl  \n",
       "394          82  europe                  vw pickup  \n",
       "395          82     usa              dodge rampage  \n",
       "396          82     usa                ford ranger  \n",
       "397          82     usa                 chevy s-10  \n",
       "\n",
       "[398 rows x 9 columns]"
      ]
     },
     "execution_count": 4,
     "metadata": {},
     "output_type": "execute_result"
    }
   ],
   "source": [
    "# load train data \n",
    "df_train = sns.load_dataset('mpg')\n",
    "# display data \n",
    "df_train"
   ]
  },
  {
   "cell_type": "code",
   "execution_count": 5,
   "id": "ce364886",
   "metadata": {
    "id": "ce364886",
    "outputId": "083d50da-11f6-40de-c9fd-fba249e75019"
   },
   "outputs": [
    {
     "data": {
      "text/html": [
       "<div>\n",
       "<style scoped>\n",
       "    .dataframe tbody tr th:only-of-type {\n",
       "        vertical-align: middle;\n",
       "    }\n",
       "\n",
       "    .dataframe tbody tr th {\n",
       "        vertical-align: top;\n",
       "    }\n",
       "\n",
       "    .dataframe thead th {\n",
       "        text-align: right;\n",
       "    }\n",
       "</style>\n",
       "<table border=\"1\" class=\"dataframe\">\n",
       "  <thead>\n",
       "    <tr style=\"text-align: right;\">\n",
       "      <th></th>\n",
       "      <th>mpg</th>\n",
       "      <th>cylinders</th>\n",
       "      <th>displacement</th>\n",
       "      <th>horsepower</th>\n",
       "      <th>weight</th>\n",
       "      <th>acceleration</th>\n",
       "      <th>model_year</th>\n",
       "      <th>origin</th>\n",
       "      <th>name</th>\n",
       "    </tr>\n",
       "  </thead>\n",
       "  <tbody>\n",
       "    <tr>\n",
       "      <th>0</th>\n",
       "      <td>18.0</td>\n",
       "      <td>8</td>\n",
       "      <td>307.0</td>\n",
       "      <td>130.0</td>\n",
       "      <td>3504</td>\n",
       "      <td>12.0</td>\n",
       "      <td>70</td>\n",
       "      <td>usa</td>\n",
       "      <td>chevrolet chevelle malibu</td>\n",
       "    </tr>\n",
       "    <tr>\n",
       "      <th>1</th>\n",
       "      <td>15.0</td>\n",
       "      <td>8</td>\n",
       "      <td>350.0</td>\n",
       "      <td>165.0</td>\n",
       "      <td>3693</td>\n",
       "      <td>11.5</td>\n",
       "      <td>70</td>\n",
       "      <td>usa</td>\n",
       "      <td>buick skylark 320</td>\n",
       "    </tr>\n",
       "    <tr>\n",
       "      <th>2</th>\n",
       "      <td>18.0</td>\n",
       "      <td>8</td>\n",
       "      <td>318.0</td>\n",
       "      <td>150.0</td>\n",
       "      <td>3436</td>\n",
       "      <td>11.0</td>\n",
       "      <td>70</td>\n",
       "      <td>usa</td>\n",
       "      <td>plymouth satellite</td>\n",
       "    </tr>\n",
       "    <tr>\n",
       "      <th>3</th>\n",
       "      <td>16.0</td>\n",
       "      <td>8</td>\n",
       "      <td>304.0</td>\n",
       "      <td>150.0</td>\n",
       "      <td>3433</td>\n",
       "      <td>12.0</td>\n",
       "      <td>70</td>\n",
       "      <td>usa</td>\n",
       "      <td>amc rebel sst</td>\n",
       "    </tr>\n",
       "    <tr>\n",
       "      <th>4</th>\n",
       "      <td>17.0</td>\n",
       "      <td>8</td>\n",
       "      <td>302.0</td>\n",
       "      <td>140.0</td>\n",
       "      <td>3449</td>\n",
       "      <td>10.5</td>\n",
       "      <td>70</td>\n",
       "      <td>usa</td>\n",
       "      <td>ford torino</td>\n",
       "    </tr>\n",
       "    <tr>\n",
       "      <th>...</th>\n",
       "      <td>...</td>\n",
       "      <td>...</td>\n",
       "      <td>...</td>\n",
       "      <td>...</td>\n",
       "      <td>...</td>\n",
       "      <td>...</td>\n",
       "      <td>...</td>\n",
       "      <td>...</td>\n",
       "      <td>...</td>\n",
       "    </tr>\n",
       "    <tr>\n",
       "      <th>393</th>\n",
       "      <td>27.0</td>\n",
       "      <td>4</td>\n",
       "      <td>140.0</td>\n",
       "      <td>86.0</td>\n",
       "      <td>2790</td>\n",
       "      <td>15.6</td>\n",
       "      <td>82</td>\n",
       "      <td>usa</td>\n",
       "      <td>ford mustang gl</td>\n",
       "    </tr>\n",
       "    <tr>\n",
       "      <th>394</th>\n",
       "      <td>44.0</td>\n",
       "      <td>4</td>\n",
       "      <td>97.0</td>\n",
       "      <td>52.0</td>\n",
       "      <td>2130</td>\n",
       "      <td>24.6</td>\n",
       "      <td>82</td>\n",
       "      <td>europe</td>\n",
       "      <td>vw pickup</td>\n",
       "    </tr>\n",
       "    <tr>\n",
       "      <th>395</th>\n",
       "      <td>32.0</td>\n",
       "      <td>4</td>\n",
       "      <td>135.0</td>\n",
       "      <td>84.0</td>\n",
       "      <td>2295</td>\n",
       "      <td>11.6</td>\n",
       "      <td>82</td>\n",
       "      <td>usa</td>\n",
       "      <td>dodge rampage</td>\n",
       "    </tr>\n",
       "    <tr>\n",
       "      <th>396</th>\n",
       "      <td>28.0</td>\n",
       "      <td>4</td>\n",
       "      <td>120.0</td>\n",
       "      <td>79.0</td>\n",
       "      <td>2625</td>\n",
       "      <td>18.6</td>\n",
       "      <td>82</td>\n",
       "      <td>usa</td>\n",
       "      <td>ford ranger</td>\n",
       "    </tr>\n",
       "    <tr>\n",
       "      <th>397</th>\n",
       "      <td>31.0</td>\n",
       "      <td>4</td>\n",
       "      <td>119.0</td>\n",
       "      <td>82.0</td>\n",
       "      <td>2720</td>\n",
       "      <td>19.4</td>\n",
       "      <td>82</td>\n",
       "      <td>usa</td>\n",
       "      <td>chevy s-10</td>\n",
       "    </tr>\n",
       "  </tbody>\n",
       "</table>\n",
       "<p>398 rows × 9 columns</p>\n",
       "</div>"
      ],
      "text/plain": [
       "      mpg  cylinders  displacement  horsepower  weight  acceleration  \\\n",
       "0    18.0          8         307.0       130.0    3504          12.0   \n",
       "1    15.0          8         350.0       165.0    3693          11.5   \n",
       "2    18.0          8         318.0       150.0    3436          11.0   \n",
       "3    16.0          8         304.0       150.0    3433          12.0   \n",
       "4    17.0          8         302.0       140.0    3449          10.5   \n",
       "..    ...        ...           ...         ...     ...           ...   \n",
       "393  27.0          4         140.0        86.0    2790          15.6   \n",
       "394  44.0          4          97.0        52.0    2130          24.6   \n",
       "395  32.0          4         135.0        84.0    2295          11.6   \n",
       "396  28.0          4         120.0        79.0    2625          18.6   \n",
       "397  31.0          4         119.0        82.0    2720          19.4   \n",
       "\n",
       "     model_year  origin                       name  \n",
       "0            70     usa  chevrolet chevelle malibu  \n",
       "1            70     usa          buick skylark 320  \n",
       "2            70     usa         plymouth satellite  \n",
       "3            70     usa              amc rebel sst  \n",
       "4            70     usa                ford torino  \n",
       "..          ...     ...                        ...  \n",
       "393          82     usa            ford mustang gl  \n",
       "394          82  europe                  vw pickup  \n",
       "395          82     usa              dodge rampage  \n",
       "396          82     usa                ford ranger  \n",
       "397          82     usa                 chevy s-10  \n",
       "\n",
       "[398 rows x 9 columns]"
      ]
     },
     "execution_count": 5,
     "metadata": {},
     "output_type": "execute_result"
    }
   ],
   "source": [
    "# Load Test data\n",
    "df_test = sns.load_dataset('mpg')\n",
    "# display test data \n",
    "df_test"
   ]
  },
  {
   "cell_type": "markdown",
   "id": "96a467dd",
   "metadata": {
    "id": "96a467dd"
   },
   "source": [
    "***Print the first five rows of the dataset***"
   ]
  },
  {
   "cell_type": "code",
   "execution_count": null,
   "id": "8c515729",
   "metadata": {
    "id": "8c515729",
    "outputId": "d1e11f99-cf9e-4da5-f1ed-bee3fe8739ba"
   },
   "outputs": [
    {
     "data": {
      "text/html": [
       "<div>\n",
       "<style scoped>\n",
       "    .dataframe tbody tr th:only-of-type {\n",
       "        vertical-align: middle;\n",
       "    }\n",
       "\n",
       "    .dataframe tbody tr th {\n",
       "        vertical-align: top;\n",
       "    }\n",
       "\n",
       "    .dataframe thead th {\n",
       "        text-align: right;\n",
       "    }\n",
       "</style>\n",
       "<table border=\"1\" class=\"dataframe\">\n",
       "  <thead>\n",
       "    <tr style=\"text-align: right;\">\n",
       "      <th></th>\n",
       "      <th>Id</th>\n",
       "      <th>MSSubClass</th>\n",
       "      <th>MSZoning</th>\n",
       "      <th>LotFrontage</th>\n",
       "      <th>LotArea</th>\n",
       "      <th>Street</th>\n",
       "      <th>Alley</th>\n",
       "      <th>LotShape</th>\n",
       "      <th>LandContour</th>\n",
       "      <th>Utilities</th>\n",
       "      <th>...</th>\n",
       "      <th>PoolArea</th>\n",
       "      <th>PoolQC</th>\n",
       "      <th>Fence</th>\n",
       "      <th>MiscFeature</th>\n",
       "      <th>MiscVal</th>\n",
       "      <th>MoSold</th>\n",
       "      <th>YrSold</th>\n",
       "      <th>SaleType</th>\n",
       "      <th>SaleCondition</th>\n",
       "      <th>SalePrice</th>\n",
       "    </tr>\n",
       "  </thead>\n",
       "  <tbody>\n",
       "    <tr>\n",
       "      <th>0</th>\n",
       "      <td>1</td>\n",
       "      <td>60</td>\n",
       "      <td>RL</td>\n",
       "      <td>65.0</td>\n",
       "      <td>8450</td>\n",
       "      <td>Pave</td>\n",
       "      <td>NaN</td>\n",
       "      <td>Reg</td>\n",
       "      <td>Lvl</td>\n",
       "      <td>AllPub</td>\n",
       "      <td>...</td>\n",
       "      <td>0</td>\n",
       "      <td>NaN</td>\n",
       "      <td>NaN</td>\n",
       "      <td>NaN</td>\n",
       "      <td>0</td>\n",
       "      <td>2</td>\n",
       "      <td>2008</td>\n",
       "      <td>WD</td>\n",
       "      <td>Normal</td>\n",
       "      <td>208500</td>\n",
       "    </tr>\n",
       "    <tr>\n",
       "      <th>1</th>\n",
       "      <td>2</td>\n",
       "      <td>20</td>\n",
       "      <td>RL</td>\n",
       "      <td>80.0</td>\n",
       "      <td>9600</td>\n",
       "      <td>Pave</td>\n",
       "      <td>NaN</td>\n",
       "      <td>Reg</td>\n",
       "      <td>Lvl</td>\n",
       "      <td>AllPub</td>\n",
       "      <td>...</td>\n",
       "      <td>0</td>\n",
       "      <td>NaN</td>\n",
       "      <td>NaN</td>\n",
       "      <td>NaN</td>\n",
       "      <td>0</td>\n",
       "      <td>5</td>\n",
       "      <td>2007</td>\n",
       "      <td>WD</td>\n",
       "      <td>Normal</td>\n",
       "      <td>181500</td>\n",
       "    </tr>\n",
       "    <tr>\n",
       "      <th>2</th>\n",
       "      <td>3</td>\n",
       "      <td>60</td>\n",
       "      <td>RL</td>\n",
       "      <td>68.0</td>\n",
       "      <td>11250</td>\n",
       "      <td>Pave</td>\n",
       "      <td>NaN</td>\n",
       "      <td>IR1</td>\n",
       "      <td>Lvl</td>\n",
       "      <td>AllPub</td>\n",
       "      <td>...</td>\n",
       "      <td>0</td>\n",
       "      <td>NaN</td>\n",
       "      <td>NaN</td>\n",
       "      <td>NaN</td>\n",
       "      <td>0</td>\n",
       "      <td>9</td>\n",
       "      <td>2008</td>\n",
       "      <td>WD</td>\n",
       "      <td>Normal</td>\n",
       "      <td>223500</td>\n",
       "    </tr>\n",
       "    <tr>\n",
       "      <th>3</th>\n",
       "      <td>4</td>\n",
       "      <td>70</td>\n",
       "      <td>RL</td>\n",
       "      <td>60.0</td>\n",
       "      <td>9550</td>\n",
       "      <td>Pave</td>\n",
       "      <td>NaN</td>\n",
       "      <td>IR1</td>\n",
       "      <td>Lvl</td>\n",
       "      <td>AllPub</td>\n",
       "      <td>...</td>\n",
       "      <td>0</td>\n",
       "      <td>NaN</td>\n",
       "      <td>NaN</td>\n",
       "      <td>NaN</td>\n",
       "      <td>0</td>\n",
       "      <td>2</td>\n",
       "      <td>2006</td>\n",
       "      <td>WD</td>\n",
       "      <td>Abnorml</td>\n",
       "      <td>140000</td>\n",
       "    </tr>\n",
       "    <tr>\n",
       "      <th>4</th>\n",
       "      <td>5</td>\n",
       "      <td>60</td>\n",
       "      <td>RL</td>\n",
       "      <td>84.0</td>\n",
       "      <td>14260</td>\n",
       "      <td>Pave</td>\n",
       "      <td>NaN</td>\n",
       "      <td>IR1</td>\n",
       "      <td>Lvl</td>\n",
       "      <td>AllPub</td>\n",
       "      <td>...</td>\n",
       "      <td>0</td>\n",
       "      <td>NaN</td>\n",
       "      <td>NaN</td>\n",
       "      <td>NaN</td>\n",
       "      <td>0</td>\n",
       "      <td>12</td>\n",
       "      <td>2008</td>\n",
       "      <td>WD</td>\n",
       "      <td>Normal</td>\n",
       "      <td>250000</td>\n",
       "    </tr>\n",
       "  </tbody>\n",
       "</table>\n",
       "<p>5 rows × 81 columns</p>\n",
       "</div>"
      ],
      "text/plain": [
       "   Id  MSSubClass MSZoning  LotFrontage  LotArea Street Alley LotShape  \\\n",
       "0   1          60       RL         65.0     8450   Pave   NaN      Reg   \n",
       "1   2          20       RL         80.0     9600   Pave   NaN      Reg   \n",
       "2   3          60       RL         68.0    11250   Pave   NaN      IR1   \n",
       "3   4          70       RL         60.0     9550   Pave   NaN      IR1   \n",
       "4   5          60       RL         84.0    14260   Pave   NaN      IR1   \n",
       "\n",
       "  LandContour Utilities  ... PoolArea PoolQC Fence MiscFeature MiscVal MoSold  \\\n",
       "0         Lvl    AllPub  ...        0    NaN   NaN         NaN       0      2   \n",
       "1         Lvl    AllPub  ...        0    NaN   NaN         NaN       0      5   \n",
       "2         Lvl    AllPub  ...        0    NaN   NaN         NaN       0      9   \n",
       "3         Lvl    AllPub  ...        0    NaN   NaN         NaN       0      2   \n",
       "4         Lvl    AllPub  ...        0    NaN   NaN         NaN       0     12   \n",
       "\n",
       "  YrSold  SaleType  SaleCondition  SalePrice  \n",
       "0   2008        WD         Normal     208500  \n",
       "1   2007        WD         Normal     181500  \n",
       "2   2008        WD         Normal     223500  \n",
       "3   2006        WD        Abnorml     140000  \n",
       "4   2008        WD         Normal     250000  \n",
       "\n",
       "[5 rows x 81 columns]"
      ]
     },
     "execution_count": 4,
     "metadata": {},
     "output_type": "execute_result"
    }
   ],
   "source": [
    "# We will use the .head() function to display the first five columns of the dataset to get a feel of the dataset.\n",
    "df_train.head()"
   ]
  },
  {
   "cell_type": "markdown",
   "id": "c0ffe163",
   "metadata": {
    "id": "c0ffe163"
   },
   "source": [
    "***Print last 5 rows of the dataset***"
   ]
  },
  {
   "cell_type": "code",
   "execution_count": null,
   "id": "09dbc00f",
   "metadata": {
    "id": "09dbc00f",
    "outputId": "8a0ca31e-47ef-4600-ea69-65902255c5aa"
   },
   "outputs": [
    {
     "data": {
      "text/html": [
       "<div>\n",
       "<style scoped>\n",
       "    .dataframe tbody tr th:only-of-type {\n",
       "        vertical-align: middle;\n",
       "    }\n",
       "\n",
       "    .dataframe tbody tr th {\n",
       "        vertical-align: top;\n",
       "    }\n",
       "\n",
       "    .dataframe thead th {\n",
       "        text-align: right;\n",
       "    }\n",
       "</style>\n",
       "<table border=\"1\" class=\"dataframe\">\n",
       "  <thead>\n",
       "    <tr style=\"text-align: right;\">\n",
       "      <th></th>\n",
       "      <th>Id</th>\n",
       "      <th>MSSubClass</th>\n",
       "      <th>MSZoning</th>\n",
       "      <th>LotFrontage</th>\n",
       "      <th>LotArea</th>\n",
       "      <th>Street</th>\n",
       "      <th>Alley</th>\n",
       "      <th>LotShape</th>\n",
       "      <th>LandContour</th>\n",
       "      <th>Utilities</th>\n",
       "      <th>...</th>\n",
       "      <th>PoolArea</th>\n",
       "      <th>PoolQC</th>\n",
       "      <th>Fence</th>\n",
       "      <th>MiscFeature</th>\n",
       "      <th>MiscVal</th>\n",
       "      <th>MoSold</th>\n",
       "      <th>YrSold</th>\n",
       "      <th>SaleType</th>\n",
       "      <th>SaleCondition</th>\n",
       "      <th>SalePrice</th>\n",
       "    </tr>\n",
       "  </thead>\n",
       "  <tbody>\n",
       "    <tr>\n",
       "      <th>1455</th>\n",
       "      <td>1456</td>\n",
       "      <td>60</td>\n",
       "      <td>RL</td>\n",
       "      <td>62.0</td>\n",
       "      <td>7917</td>\n",
       "      <td>Pave</td>\n",
       "      <td>NaN</td>\n",
       "      <td>Reg</td>\n",
       "      <td>Lvl</td>\n",
       "      <td>AllPub</td>\n",
       "      <td>...</td>\n",
       "      <td>0</td>\n",
       "      <td>NaN</td>\n",
       "      <td>NaN</td>\n",
       "      <td>NaN</td>\n",
       "      <td>0</td>\n",
       "      <td>8</td>\n",
       "      <td>2007</td>\n",
       "      <td>WD</td>\n",
       "      <td>Normal</td>\n",
       "      <td>175000</td>\n",
       "    </tr>\n",
       "    <tr>\n",
       "      <th>1456</th>\n",
       "      <td>1457</td>\n",
       "      <td>20</td>\n",
       "      <td>RL</td>\n",
       "      <td>85.0</td>\n",
       "      <td>13175</td>\n",
       "      <td>Pave</td>\n",
       "      <td>NaN</td>\n",
       "      <td>Reg</td>\n",
       "      <td>Lvl</td>\n",
       "      <td>AllPub</td>\n",
       "      <td>...</td>\n",
       "      <td>0</td>\n",
       "      <td>NaN</td>\n",
       "      <td>MnPrv</td>\n",
       "      <td>NaN</td>\n",
       "      <td>0</td>\n",
       "      <td>2</td>\n",
       "      <td>2010</td>\n",
       "      <td>WD</td>\n",
       "      <td>Normal</td>\n",
       "      <td>210000</td>\n",
       "    </tr>\n",
       "    <tr>\n",
       "      <th>1457</th>\n",
       "      <td>1458</td>\n",
       "      <td>70</td>\n",
       "      <td>RL</td>\n",
       "      <td>66.0</td>\n",
       "      <td>9042</td>\n",
       "      <td>Pave</td>\n",
       "      <td>NaN</td>\n",
       "      <td>Reg</td>\n",
       "      <td>Lvl</td>\n",
       "      <td>AllPub</td>\n",
       "      <td>...</td>\n",
       "      <td>0</td>\n",
       "      <td>NaN</td>\n",
       "      <td>GdPrv</td>\n",
       "      <td>Shed</td>\n",
       "      <td>2500</td>\n",
       "      <td>5</td>\n",
       "      <td>2010</td>\n",
       "      <td>WD</td>\n",
       "      <td>Normal</td>\n",
       "      <td>266500</td>\n",
       "    </tr>\n",
       "    <tr>\n",
       "      <th>1458</th>\n",
       "      <td>1459</td>\n",
       "      <td>20</td>\n",
       "      <td>RL</td>\n",
       "      <td>68.0</td>\n",
       "      <td>9717</td>\n",
       "      <td>Pave</td>\n",
       "      <td>NaN</td>\n",
       "      <td>Reg</td>\n",
       "      <td>Lvl</td>\n",
       "      <td>AllPub</td>\n",
       "      <td>...</td>\n",
       "      <td>0</td>\n",
       "      <td>NaN</td>\n",
       "      <td>NaN</td>\n",
       "      <td>NaN</td>\n",
       "      <td>0</td>\n",
       "      <td>4</td>\n",
       "      <td>2010</td>\n",
       "      <td>WD</td>\n",
       "      <td>Normal</td>\n",
       "      <td>142125</td>\n",
       "    </tr>\n",
       "    <tr>\n",
       "      <th>1459</th>\n",
       "      <td>1460</td>\n",
       "      <td>20</td>\n",
       "      <td>RL</td>\n",
       "      <td>75.0</td>\n",
       "      <td>9937</td>\n",
       "      <td>Pave</td>\n",
       "      <td>NaN</td>\n",
       "      <td>Reg</td>\n",
       "      <td>Lvl</td>\n",
       "      <td>AllPub</td>\n",
       "      <td>...</td>\n",
       "      <td>0</td>\n",
       "      <td>NaN</td>\n",
       "      <td>NaN</td>\n",
       "      <td>NaN</td>\n",
       "      <td>0</td>\n",
       "      <td>6</td>\n",
       "      <td>2008</td>\n",
       "      <td>WD</td>\n",
       "      <td>Normal</td>\n",
       "      <td>147500</td>\n",
       "    </tr>\n",
       "  </tbody>\n",
       "</table>\n",
       "<p>5 rows × 81 columns</p>\n",
       "</div>"
      ],
      "text/plain": [
       "        Id  MSSubClass MSZoning  LotFrontage  LotArea Street Alley LotShape  \\\n",
       "1455  1456          60       RL         62.0     7917   Pave   NaN      Reg   \n",
       "1456  1457          20       RL         85.0    13175   Pave   NaN      Reg   \n",
       "1457  1458          70       RL         66.0     9042   Pave   NaN      Reg   \n",
       "1458  1459          20       RL         68.0     9717   Pave   NaN      Reg   \n",
       "1459  1460          20       RL         75.0     9937   Pave   NaN      Reg   \n",
       "\n",
       "     LandContour Utilities  ... PoolArea PoolQC  Fence MiscFeature MiscVal  \\\n",
       "1455         Lvl    AllPub  ...        0    NaN    NaN         NaN       0   \n",
       "1456         Lvl    AllPub  ...        0    NaN  MnPrv         NaN       0   \n",
       "1457         Lvl    AllPub  ...        0    NaN  GdPrv        Shed    2500   \n",
       "1458         Lvl    AllPub  ...        0    NaN    NaN         NaN       0   \n",
       "1459         Lvl    AllPub  ...        0    NaN    NaN         NaN       0   \n",
       "\n",
       "     MoSold YrSold  SaleType  SaleCondition  SalePrice  \n",
       "1455      8   2007        WD         Normal     175000  \n",
       "1456      2   2010        WD         Normal     210000  \n",
       "1457      5   2010        WD         Normal     266500  \n",
       "1458      4   2010        WD         Normal     142125  \n",
       "1459      6   2008        WD         Normal     147500  \n",
       "\n",
       "[5 rows x 81 columns]"
      ]
     },
     "execution_count": 5,
     "metadata": {},
     "output_type": "execute_result"
    }
   ],
   "source": [
    "df_train.tail()"
   ]
  },
  {
   "cell_type": "markdown",
   "id": "99660c0f",
   "metadata": {
    "id": "99660c0f"
   },
   "source": [
    "***Find out the total number of rows and columns of the data set***"
   ]
  },
  {
   "cell_type": "code",
   "execution_count": null,
   "id": "f2f2dda7",
   "metadata": {
    "id": "f2f2dda7",
    "outputId": "e55ce716-b231-4418-f966-2e7258eb2ce7"
   },
   "outputs": [
    {
     "data": {
      "text/plain": [
       "(1460, 81)"
      ]
     },
     "execution_count": 6,
     "metadata": {},
     "output_type": "execute_result"
    }
   ],
   "source": [
    "df_train.shape"
   ]
  },
  {
   "cell_type": "markdown",
   "id": "8f0d94ce",
   "metadata": {
    "id": "8f0d94ce"
   },
   "source": [
    "***Find out the columns, data types, and presence of null values or missing values in the data set***"
   ]
  },
  {
   "cell_type": "code",
   "execution_count": null,
   "id": "75f60bcf",
   "metadata": {
    "id": "75f60bcf",
    "outputId": "fac0477d-e104-444f-efec-86e930301a95"
   },
   "outputs": [
    {
     "name": "stdout",
     "output_type": "stream",
     "text": [
      "<class 'pandas.core.frame.DataFrame'>\n",
      "RangeIndex: 1460 entries, 0 to 1459\n",
      "Data columns (total 81 columns):\n",
      " #   Column         Non-Null Count  Dtype  \n",
      "---  ------         --------------  -----  \n",
      " 0   Id             1460 non-null   int64  \n",
      " 1   MSSubClass     1460 non-null   int64  \n",
      " 2   MSZoning       1460 non-null   object \n",
      " 3   LotFrontage    1201 non-null   float64\n",
      " 4   LotArea        1460 non-null   int64  \n",
      " 5   Street         1460 non-null   object \n",
      " 6   Alley          91 non-null     object \n",
      " 7   LotShape       1460 non-null   object \n",
      " 8   LandContour    1460 non-null   object \n",
      " 9   Utilities      1460 non-null   object \n",
      " 10  LotConfig      1460 non-null   object \n",
      " 11  LandSlope      1460 non-null   object \n",
      " 12  Neighborhood   1460 non-null   object \n",
      " 13  Condition1     1460 non-null   object \n",
      " 14  Condition2     1460 non-null   object \n",
      " 15  BldgType       1460 non-null   object \n",
      " 16  HouseStyle     1460 non-null   object \n",
      " 17  OverallQual    1460 non-null   int64  \n",
      " 18  OverallCond    1460 non-null   int64  \n",
      " 19  YearBuilt      1460 non-null   int64  \n",
      " 20  YearRemodAdd   1460 non-null   int64  \n",
      " 21  RoofStyle      1460 non-null   object \n",
      " 22  RoofMatl       1460 non-null   object \n",
      " 23  Exterior1st    1460 non-null   object \n",
      " 24  Exterior2nd    1460 non-null   object \n",
      " 25  MasVnrType     1452 non-null   object \n",
      " 26  MasVnrArea     1452 non-null   float64\n",
      " 27  ExterQual      1460 non-null   object \n",
      " 28  ExterCond      1460 non-null   object \n",
      " 29  Foundation     1460 non-null   object \n",
      " 30  BsmtQual       1423 non-null   object \n",
      " 31  BsmtCond       1423 non-null   object \n",
      " 32  BsmtExposure   1422 non-null   object \n",
      " 33  BsmtFinType1   1423 non-null   object \n",
      " 34  BsmtFinSF1     1460 non-null   int64  \n",
      " 35  BsmtFinType2   1422 non-null   object \n",
      " 36  BsmtFinSF2     1460 non-null   int64  \n",
      " 37  BsmtUnfSF      1460 non-null   int64  \n",
      " 38  TotalBsmtSF    1460 non-null   int64  \n",
      " 39  Heating        1460 non-null   object \n",
      " 40  HeatingQC      1460 non-null   object \n",
      " 41  CentralAir     1460 non-null   object \n",
      " 42  Electrical     1459 non-null   object \n",
      " 43  1stFlrSF       1460 non-null   int64  \n",
      " 44  2ndFlrSF       1460 non-null   int64  \n",
      " 45  LowQualFinSF   1460 non-null   int64  \n",
      " 46  GrLivArea      1460 non-null   int64  \n",
      " 47  BsmtFullBath   1460 non-null   int64  \n",
      " 48  BsmtHalfBath   1460 non-null   int64  \n",
      " 49  FullBath       1460 non-null   int64  \n",
      " 50  HalfBath       1460 non-null   int64  \n",
      " 51  BedroomAbvGr   1460 non-null   int64  \n",
      " 52  KitchenAbvGr   1460 non-null   int64  \n",
      " 53  KitchenQual    1460 non-null   object \n",
      " 54  TotRmsAbvGrd   1460 non-null   int64  \n",
      " 55  Functional     1460 non-null   object \n",
      " 56  Fireplaces     1460 non-null   int64  \n",
      " 57  FireplaceQu    770 non-null    object \n",
      " 58  GarageType     1379 non-null   object \n",
      " 59  GarageYrBlt    1379 non-null   float64\n",
      " 60  GarageFinish   1379 non-null   object \n",
      " 61  GarageCars     1460 non-null   int64  \n",
      " 62  GarageArea     1460 non-null   int64  \n",
      " 63  GarageQual     1379 non-null   object \n",
      " 64  GarageCond     1379 non-null   object \n",
      " 65  PavedDrive     1460 non-null   object \n",
      " 66  WoodDeckSF     1460 non-null   int64  \n",
      " 67  OpenPorchSF    1460 non-null   int64  \n",
      " 68  EnclosedPorch  1460 non-null   int64  \n",
      " 69  3SsnPorch      1460 non-null   int64  \n",
      " 70  ScreenPorch    1460 non-null   int64  \n",
      " 71  PoolArea       1460 non-null   int64  \n",
      " 72  PoolQC         7 non-null      object \n",
      " 73  Fence          281 non-null    object \n",
      " 74  MiscFeature    54 non-null     object \n",
      " 75  MiscVal        1460 non-null   int64  \n",
      " 76  MoSold         1460 non-null   int64  \n",
      " 77  YrSold         1460 non-null   int64  \n",
      " 78  SaleType       1460 non-null   object \n",
      " 79  SaleCondition  1460 non-null   object \n",
      " 80  SalePrice      1460 non-null   int64  \n",
      "dtypes: float64(3), int64(35), object(43)\n",
      "memory usage: 924.0+ KB\n"
     ]
    }
   ],
   "source": [
    "#info gives us information about index and column data types.\n",
    "df_train.info()"
   ]
  },
  {
   "cell_type": "code",
   "execution_count": null,
   "id": "5631ef7f",
   "metadata": {
    "id": "5631ef7f",
    "outputId": "5e1ace15-8e4c-4f3a-dbe9-e68d8fe93d8e"
   },
   "outputs": [
    {
     "data": {
      "image/png": "[encoded data removed]",
      "text/plain": [
       "<Figure size 720x360 with 1 Axes>"
      ]
     },
     "metadata": {
      "needs_background": "light"
     },
     "output_type": "display_data"
    }
   ],
   "source": [
    "# Checking how many column have a categorical and numerical data type\n",
    "column_data_type = []\n",
    "for col in df_train.columns:\n",
    "    data_type = df_train[col].dtype\n",
    "    if df_train[col].dtype in ['int64','float64']:\n",
    "        column_data_type.append('numeric')\n",
    "    else:\n",
    "        column_data_type.append('categorical')\n",
    "plt.figure(figsize=(10,5))\n",
    "size=20\n",
    "params = {'legend.fontsize': 'large',\n",
    "          'figure.figsize': (20,8),\n",
    "          'axes.labelsize': size,\n",
    "          'axes.titlesize': size,\n",
    "          'xtick.labelsize': size*0.75,\n",
    "          'ytick.labelsize': size*0.75,\n",
    "          'axes.titlepad': 25}\n",
    "plt.rcParams.update(params)\n",
    "sns.countplot(x=column_data_type)\n",
    "plt.show()"
   ]
  },
  {
   "cell_type": "code",
   "execution_count": null,
   "id": "e2fd52e3",
   "metadata": {
    "id": "e2fd52e3",
    "outputId": "4d331012-83b2-4423-af79-7ef334d17796"
   },
   "outputs": [
    {
     "name": "stdout",
     "output_type": "stream",
     "text": [
      "38 numbers of columns have a numerical data type\n",
      "43 numbers of columns have a categorical data type\n"
     ]
    }
   ],
   "source": [
    "print(\"{} numbers of columns have a numerical data type\" .format(column_data_type.count('numeric')))\n",
    "print(\"{} numbers of columns have a categorical data type\" .format(column_data_type.count('categorical')))"
   ]
  },
  {
   "cell_type": "markdown",
   "id": "577cf073",
   "metadata": {
    "id": "577cf073"
   },
   "source": [
    "## Variable identification\n",
    "\n",
    "***The goal is to predict house prices, so the target variable (or dependent variable) is \"SalePrice\", where the rest of the columns might be considered as predictor variables (independent variables).***\n"
   ]
  },
  {
   "cell_type": "markdown",
   "id": "c9e6353a",
   "metadata": {
    "id": "c9e6353a"
   },
   "source": [
    "### Deal with Missing values "
   ]
  },
  {
   "cell_type": "code",
   "execution_count": null,
   "id": "cbff8c1f",
   "metadata": {
    "id": "cbff8c1f",
    "outputId": "049c9db3-cb90-49f8-ad41-9949f2d2f9ed"
   },
   "outputs": [
    {
     "data": {
      "text/plain": [
       "Id                 0\n",
       "MSSubClass         0\n",
       "MSZoning           0\n",
       "LotFrontage      259\n",
       "LotArea            0\n",
       "                ... \n",
       "MoSold             0\n",
       "YrSold             0\n",
       "SaleType           0\n",
       "SaleCondition      0\n",
       "SalePrice          0\n",
       "Length: 81, dtype: int64"
      ]
     },
     "execution_count": 10,
     "metadata": {},
     "output_type": "execute_result"
    }
   ],
   "source": [
    "# check the number of missing values in each column \n",
    "df_train.isna().sum()"
   ]
  },
  {
   "cell_type": "markdown",
   "id": "5ec4af34",
   "metadata": {
    "id": "5ec4af34"
   },
   "source": [
    "Let us look at the percentage of the missing values of the dataset."
   ]
  },
  {
   "cell_type": "code",
   "execution_count": null,
   "id": "f0285cda",
   "metadata": {
    "id": "f0285cda",
    "outputId": "b56f5434-3013-4bca-c98a-6ea31230d34d"
   },
   "outputs": [
    {
     "data": {
      "text/html": [
       "<div>\n",
       "<style scoped>\n",
       "    .dataframe tbody tr th:only-of-type {\n",
       "        vertical-align: middle;\n",
       "    }\n",
       "\n",
       "    .dataframe tbody tr th {\n",
       "        vertical-align: top;\n",
       "    }\n",
       "\n",
       "    .dataframe thead th {\n",
       "        text-align: right;\n",
       "    }\n",
       "</style>\n",
       "<table border=\"1\" class=\"dataframe\">\n",
       "  <thead>\n",
       "    <tr style=\"text-align: right;\">\n",
       "      <th></th>\n",
       "      <th>Feature</th>\n",
       "      <th>Number of Missing Values</th>\n",
       "      <th>Percentage of Missing Values</th>\n",
       "    </tr>\n",
       "  </thead>\n",
       "  <tbody>\n",
       "    <tr>\n",
       "      <th>0</th>\n",
       "      <td>PoolQC</td>\n",
       "      <td>1453</td>\n",
       "      <td>99.520548</td>\n",
       "    </tr>\n",
       "    <tr>\n",
       "      <th>1</th>\n",
       "      <td>MiscFeature</td>\n",
       "      <td>1406</td>\n",
       "      <td>96.301370</td>\n",
       "    </tr>\n",
       "    <tr>\n",
       "      <th>2</th>\n",
       "      <td>Alley</td>\n",
       "      <td>1369</td>\n",
       "      <td>93.767123</td>\n",
       "    </tr>\n",
       "    <tr>\n",
       "      <th>3</th>\n",
       "      <td>Fence</td>\n",
       "      <td>1179</td>\n",
       "      <td>80.753425</td>\n",
       "    </tr>\n",
       "    <tr>\n",
       "      <th>4</th>\n",
       "      <td>FireplaceQu</td>\n",
       "      <td>690</td>\n",
       "      <td>47.260274</td>\n",
       "    </tr>\n",
       "    <tr>\n",
       "      <th>5</th>\n",
       "      <td>LotFrontage</td>\n",
       "      <td>259</td>\n",
       "      <td>17.739726</td>\n",
       "    </tr>\n",
       "    <tr>\n",
       "      <th>6</th>\n",
       "      <td>GarageType</td>\n",
       "      <td>81</td>\n",
       "      <td>5.547945</td>\n",
       "    </tr>\n",
       "    <tr>\n",
       "      <th>7</th>\n",
       "      <td>GarageYrBlt</td>\n",
       "      <td>81</td>\n",
       "      <td>5.547945</td>\n",
       "    </tr>\n",
       "    <tr>\n",
       "      <th>8</th>\n",
       "      <td>GarageFinish</td>\n",
       "      <td>81</td>\n",
       "      <td>5.547945</td>\n",
       "    </tr>\n",
       "    <tr>\n",
       "      <th>9</th>\n",
       "      <td>GarageQual</td>\n",
       "      <td>81</td>\n",
       "      <td>5.547945</td>\n",
       "    </tr>\n",
       "    <tr>\n",
       "      <th>10</th>\n",
       "      <td>GarageCond</td>\n",
       "      <td>81</td>\n",
       "      <td>5.547945</td>\n",
       "    </tr>\n",
       "    <tr>\n",
       "      <th>11</th>\n",
       "      <td>BsmtExposure</td>\n",
       "      <td>38</td>\n",
       "      <td>2.602740</td>\n",
       "    </tr>\n",
       "    <tr>\n",
       "      <th>12</th>\n",
       "      <td>BsmtFinType2</td>\n",
       "      <td>38</td>\n",
       "      <td>2.602740</td>\n",
       "    </tr>\n",
       "    <tr>\n",
       "      <th>13</th>\n",
       "      <td>BsmtFinType1</td>\n",
       "      <td>37</td>\n",
       "      <td>2.534247</td>\n",
       "    </tr>\n",
       "    <tr>\n",
       "      <th>14</th>\n",
       "      <td>BsmtCond</td>\n",
       "      <td>37</td>\n",
       "      <td>2.534247</td>\n",
       "    </tr>\n",
       "    <tr>\n",
       "      <th>15</th>\n",
       "      <td>BsmtQual</td>\n",
       "      <td>37</td>\n",
       "      <td>2.534247</td>\n",
       "    </tr>\n",
       "    <tr>\n",
       "      <th>16</th>\n",
       "      <td>MasVnrArea</td>\n",
       "      <td>8</td>\n",
       "      <td>0.547945</td>\n",
       "    </tr>\n",
       "    <tr>\n",
       "      <th>17</th>\n",
       "      <td>MasVnrType</td>\n",
       "      <td>8</td>\n",
       "      <td>0.547945</td>\n",
       "    </tr>\n",
       "    <tr>\n",
       "      <th>18</th>\n",
       "      <td>Electrical</td>\n",
       "      <td>1</td>\n",
       "      <td>0.068493</td>\n",
       "    </tr>\n",
       "  </tbody>\n",
       "</table>\n",
       "</div>"
      ],
      "text/plain": [
       "         Feature  Number of Missing Values  Percentage of Missing Values\n",
       "0         PoolQC                      1453                     99.520548\n",
       "1    MiscFeature                      1406                     96.301370\n",
       "2          Alley                      1369                     93.767123\n",
       "3          Fence                      1179                     80.753425\n",
       "4    FireplaceQu                       690                     47.260274\n",
       "5    LotFrontage                       259                     17.739726\n",
       "6     GarageType                        81                      5.547945\n",
       "7    GarageYrBlt                        81                      5.547945\n",
       "8   GarageFinish                        81                      5.547945\n",
       "9     GarageQual                        81                      5.547945\n",
       "10    GarageCond                        81                      5.547945\n",
       "11  BsmtExposure                        38                      2.602740\n",
       "12  BsmtFinType2                        38                      2.602740\n",
       "13  BsmtFinType1                        37                      2.534247\n",
       "14      BsmtCond                        37                      2.534247\n",
       "15      BsmtQual                        37                      2.534247\n",
       "16    MasVnrArea                         8                      0.547945\n",
       "17    MasVnrType                         8                      0.547945\n",
       "18    Electrical                         1                      0.068493"
      ]
     },
     "execution_count": 11,
     "metadata": {},
     "output_type": "execute_result"
    }
   ],
   "source": [
    "# another way to present missing values in each column \n",
    "missing_values = df_train.isnull().sum()\n",
    "missing_values = missing_values[missing_values > 0].sort_values(ascending = False)\n",
    "missing_values\n",
    "NAN_col = list(missing_values.to_dict().keys())\n",
    "missing_values_data = pd.DataFrame(missing_values)\n",
    "missing_values_data.reset_index(level=0, inplace=True)\n",
    "missing_values_data.columns = ['Feature','Number of Missing Values']\n",
    "missing_values_data['Percentage of Missing Values'] = (100.0*missing_values_data['Number of Missing Values'])/len(df_train)\n",
    "missing_values_data"
   ]
  },
  {
   "cell_type": "markdown",
   "id": "9a9f4c89",
   "metadata": {
    "id": "9a9f4c89"
   },
   "source": [
    "### impute the missing values onto the features "
   ]
  },
  {
   "cell_type": "markdown",
   "id": "6ea24cda",
   "metadata": {
    "id": "6ea24cda"
   },
   "source": [
    "***1. We will impute the Nan or null values of 'PoolQC' with None because there are about 99.5% null values, which means that most houses don't have a Pool.***\n",
    "\n"
   ]
  },
  {
   "cell_type": "code",
   "execution_count": null,
   "id": "c3663504",
   "metadata": {
    "id": "c3663504"
   },
   "outputs": [],
   "source": [
    "df_train[\"PoolQC\"] = df_train[\"PoolQC\"].fillna(\"None\")"
   ]
  },
  {
   "cell_type": "markdown",
   "id": "d78a8f09",
   "metadata": {
    "id": "d78a8f09"
   },
   "source": [
    "***2 We will impute the Nan or null values of 'MiscFeature' with None because there are about 96.3% null values, which means that most houses don't contain miscellaneous Features.***"
   ]
  },
  {
   "cell_type": "code",
   "execution_count": null,
   "id": "9a5bd27f",
   "metadata": {
    "id": "9a5bd27f"
   },
   "outputs": [],
   "source": [
    "df_train[\"MiscFeature\"] = df_train[\"MiscFeature\"].fillna(\"None\")"
   ]
  },
  {
   "cell_type": "markdown",
   "id": "43acc9a4",
   "metadata": {
    "id": "43acc9a4"
   },
   "source": [
    "***3.We will impute the Nan or null values of 'Alley' which refers to type of Alley access with None as null values signify that the house does not contain any Alley access.***"
   ]
  },
  {
   "cell_type": "code",
   "execution_count": null,
   "id": "a0d01d3d",
   "metadata": {
    "id": "a0d01d3d"
   },
   "outputs": [],
   "source": [
    "df_train[\"Alley\"] = df_train[\"Alley\"].fillna(\"None\")"
   ]
  },
  {
   "cell_type": "markdown",
   "id": "9e29ac74",
   "metadata": {
    "id": "9e29ac74"
   },
   "source": [
    "***4.We will impute the Nan or null values of 'Fence' with None as null values signify that the house does not contain any Fences.***"
   ]
  },
  {
   "cell_type": "code",
   "execution_count": null,
   "id": "c46a4c42",
   "metadata": {
    "id": "c46a4c42"
   },
   "outputs": [],
   "source": [
    "df_train[\"Fence\"] = df_train[\"Fence\"].fillna(\"None\")"
   ]
  },
  {
   "cell_type": "markdown",
   "id": "e7dc329a",
   "metadata": {
    "id": "e7dc329a"
   },
   "source": [
    "***5.We will impute the Nan or null values of 'FireplaceQu' with None as null values signify that the house does not contain any fireplace.***"
   ]
  },
  {
   "cell_type": "code",
   "execution_count": null,
   "id": "5fa1916c",
   "metadata": {
    "id": "5fa1916c"
   },
   "outputs": [],
   "source": [
    "df_train[\"FireplaceQu\"] = df_train[\"FireplaceQu\"].fillna(\"None\")"
   ]
  },
  {
   "cell_type": "markdown",
   "id": "f23c47b0",
   "metadata": {
    "id": "f23c47b0"
   },
   "source": [
    "***6.We will impute the Nan or null values of 'LotFrontage' with median values taking into consideration that the area of each street connected to the house property is most likely similar to other houses of the Neighborhood.***"
   ]
  },
  {
   "cell_type": "code",
   "execution_count": null,
   "id": "7e0b2864",
   "metadata": {
    "id": "7e0b2864"
   },
   "outputs": [],
   "source": [
    "#Group by neighborhood and fill in missing value by the median LotFrontage of all the neighborhood\n",
    "df_train[\"LotFrontage\"] = df_train.groupby(\"Neighborhood\")[\"LotFrontage\"].transform(\n",
    "    lambda x: x.fillna(x.median()))"
   ]
  },
  {
   "cell_type": "markdown",
   "id": "510d4e3d",
   "metadata": {
    "id": "510d4e3d"
   },
   "source": [
    "***7.We replace the 'GarageType', 'GarageFinish', 'GarageQual' and 'GarageCond' missing values into None signifying that those homes most likely don't have any garage for vehicles.***"
   ]
  },
  {
   "cell_type": "code",
   "execution_count": null,
   "id": "fcadb845",
   "metadata": {
    "id": "fcadb845"
   },
   "outputs": [],
   "source": [
    "for col in ('GarageType', 'GarageFinish', 'GarageQual', 'GarageCond'):\n",
    "    df_train[col] = df_train[col].fillna('None')"
   ]
  },
  {
   "cell_type": "markdown",
   "id": "697c933e",
   "metadata": {
    "id": "697c933e"
   },
   "source": [
    "***8.We replace the null values of 'GarageYrBlt', 'GarageArea', 'GarageCars' as no garage equals no cars.***"
   ]
  },
  {
   "cell_type": "code",
   "execution_count": null,
   "id": "62c63493",
   "metadata": {
    "id": "62c63493"
   },
   "outputs": [],
   "source": [
    "for col in ('GarageYrBlt', 'GarageArea', 'GarageCars'):\n",
    "    df_train[col] = df_train[col].fillna(0)"
   ]
  },
  {
   "cell_type": "markdown",
   "id": "4bfe3366",
   "metadata": {
    "id": "4bfe3366"
   },
   "source": [
    "***9. The missing values of 'BsmtFinSF1', 'BsmtFinSF2', 'BsmtUnfSF','TotalBsmtSF', 'BsmtFullBath', 'BsmtHalfBath' are filled with zero because the null values most likely signifies no basement.***"
   ]
  },
  {
   "cell_type": "code",
   "execution_count": null,
   "id": "4e50a1b9",
   "metadata": {
    "id": "4e50a1b9"
   },
   "outputs": [],
   "source": [
    "for col in ('BsmtFinSF1', 'BsmtFinSF2', 'BsmtUnfSF','TotalBsmtSF', 'BsmtFullBath', 'BsmtHalfBath'):\n",
    "    df_train[col] = df_train[col].fillna(0)"
   ]
  },
  {
   "cell_type": "markdown",
   "id": "584640a9",
   "metadata": {
    "id": "584640a9"
   },
   "source": [
    "***10.The missing values'BsmtQual', 'BsmtCond', 'BsmtExposure', 'BsmtFinType1', 'BsmtFinType2 are filled with Nonne as NaN values signifies no basement.***"
   ]
  },
  {
   "cell_type": "code",
   "execution_count": null,
   "id": "49e8eae2",
   "metadata": {
    "id": "49e8eae2"
   },
   "outputs": [],
   "source": [
    "for col in ('BsmtQual', 'BsmtCond', 'BsmtExposure', 'BsmtFinType1', 'BsmtFinType2'):\n",
    "    df_train[col] = df_train[col].fillna('None')"
   ]
  },
  {
   "cell_type": "markdown",
   "id": "f7f8c900",
   "metadata": {
    "id": "f7f8c900"
   },
   "source": [
    "***11.The NA values of \"MasVnrType\" and \"MasVnrArea\" refer to no masonry veneer for these houses. Therefore the Area can be imputed with zero and the type can be imputed with None.***"
   ]
  },
  {
   "cell_type": "code",
   "execution_count": null,
   "id": "cc436758",
   "metadata": {
    "id": "cc436758"
   },
   "outputs": [],
   "source": [
    "df_train[\"MasVnrType\"] = df_train[\"MasVnrType\"].fillna(\"None\")\n",
    "df_train[\"MasVnrArea\"] = df_train[\"MasVnrArea\"].fillna(0)"
   ]
  },
  {
   "cell_type": "markdown",
   "id": "c6d6b5cb",
   "metadata": {
    "id": "c6d6b5cb"
   },
   "source": [
    "***12. The 'MSZoning' refers to the general zoning classification. We fill the NaN values with 'RL' which is the most occurring value.***"
   ]
  },
  {
   "cell_type": "code",
   "execution_count": null,
   "id": "abdc9ed3",
   "metadata": {
    "id": "abdc9ed3"
   },
   "outputs": [],
   "source": [
    "df_train['MSZoning'] = df_train['MSZoning'].fillna(df_train['MSZoning'].mode()[0])"
   ]
  },
  {
   "cell_type": "markdown",
   "id": "89a85ab5",
   "metadata": {
    "id": "89a85ab5"
   },
   "source": [
    "***13.Most of the values of this feature are \"AllPub\" except for one \"NoSeWa\" and 2 NA. Since the house with \"NoSewa' is present in the training set, this feature is not helpful in predictive modeling so we drop it.***"
   ]
  },
  {
   "cell_type": "code",
   "execution_count": null,
   "id": "6c95de04",
   "metadata": {
    "id": "6c95de04"
   },
   "outputs": [],
   "source": [
    "df_train = df_train.drop(['Utilities'], axis=1)"
   ]
  },
  {
   "cell_type": "markdown",
   "id": "8e047807",
   "metadata": {
    "id": "8e047807"
   },
   "source": [
    "***14.The NA values means typical which is mentioned in the data description.***"
   ]
  },
  {
   "cell_type": "code",
   "execution_count": null,
   "id": "b054fdd5",
   "metadata": {
    "id": "b054fdd5"
   },
   "outputs": [],
   "source": [
    "df_train[\"Functional\"] = df_train[\"Functional\"].fillna(\"Typ\")"
   ]
  },
  {
   "cell_type": "markdown",
   "id": "dd770dec",
   "metadata": {
    "id": "dd770dec"
   },
   "source": [
    "***15.There is only one NA value present here in \"Electrical\" so we impute it 'SBrkr' since it is the most occurring value.***"
   ]
  },
  {
   "cell_type": "code",
   "execution_count": null,
   "id": "ac694dbb",
   "metadata": {
    "id": "ac694dbb"
   },
   "outputs": [],
   "source": [
    "df_train['Electrical'] = df_train['Electrical'].fillna(df_train['Electrical'].mode()[0])"
   ]
  },
  {
   "cell_type": "markdown",
   "id": "b57ef859",
   "metadata": {
    "id": "b57ef859"
   },
   "source": [
    "***16.There is only one NA value present here in \"KitchenQual\" so we impute it 'TA' since it is the most occurring value.***"
   ]
  },
  {
   "cell_type": "code",
   "execution_count": null,
   "id": "e34823f1",
   "metadata": {
    "id": "e34823f1"
   },
   "outputs": [],
   "source": [
    "df_train['KitchenQual'] = df_train['KitchenQual'].fillna(df_train['KitchenQual'].mode()[0])"
   ]
  },
  {
   "cell_type": "markdown",
   "id": "52463f09",
   "metadata": {
    "id": "52463f09"
   },
   "source": [
    "***17.There is only one NA value present in both Exterior1st and Exterior2nd so we fill it with the most frequent string.***"
   ]
  },
  {
   "cell_type": "code",
   "execution_count": null,
   "id": "f126ff1f",
   "metadata": {
    "id": "f126ff1f"
   },
   "outputs": [],
   "source": [
    "df_train['Exterior1st'] = df_train['Exterior1st'].fillna(df_train['Exterior1st'].mode()[0])\n",
    "df_train['Exterior2nd'] = df_train['Exterior2nd'].fillna(df_train['Exterior2nd'].mode()[0])"
   ]
  },
  {
   "cell_type": "markdown",
   "id": "58d01d14",
   "metadata": {
    "id": "58d01d14"
   },
   "source": [
    "***18.Fill it again with the most frequent which is \"WD\" in this case.***"
   ]
  },
  {
   "cell_type": "code",
   "execution_count": null,
   "id": "c444116e",
   "metadata": {
    "id": "c444116e"
   },
   "outputs": [],
   "source": [
    "df_train['SaleType'] = df_train['SaleType'].fillna(df_train['SaleType'].mode()[0])"
   ]
  },
  {
   "cell_type": "markdown",
   "id": "0d749033",
   "metadata": {
    "id": "0d749033"
   },
   "source": [
    "***19.The NA values here refers to No Building class so we fill it with None.***"
   ]
  },
  {
   "cell_type": "code",
   "execution_count": null,
   "id": "f7112568",
   "metadata": {
    "id": "f7112568"
   },
   "outputs": [],
   "source": [
    "df_train['MSSubClass'] = df_train['MSSubClass'].fillna(\"None\")"
   ]
  },
  {
   "cell_type": "code",
   "execution_count": null,
   "id": "08a08231",
   "metadata": {
    "id": "08a08231",
    "outputId": "501e5127-8e74-4c08-a189-a588689273b2"
   },
   "outputs": [
    {
     "data": {
      "text/plain": [
       "0"
      ]
     },
     "execution_count": 31,
     "metadata": {},
     "output_type": "execute_result"
    }
   ],
   "source": [
    "# Checking the maximum of null variable it have \n",
    "df_train.isnull().sum().max()"
   ]
  },
  {
   "cell_type": "markdown",
   "id": "e2a1b650",
   "metadata": {
    "id": "e2a1b650"
   },
   "source": [
    "The result 0 above shows we no longer have any missing values."
   ]
  },
  {
   "cell_type": "markdown",
   "id": "5b9fb12b",
   "metadata": {
    "id": "5b9fb12b"
   },
   "source": [
    "### Generating new features\n",
    "\n",
    "We can generate some new features from existing ones. "
   ]
  },
  {
   "cell_type": "markdown",
   "id": "0466708f",
   "metadata": {
    "id": "0466708f"
   },
   "source": [
    "***1. the total square feet of the house can be computed as: Total_Square_Feet = BsmtFinSF1 + BsmtFinSF2 + 1stFlrSF + 2ndFlrSF + TotalBsmtSF***"
   ]
  },
  {
   "cell_type": "code",
   "execution_count": null,
   "id": "14d212b9",
   "metadata": {
    "id": "14d212b9"
   },
   "outputs": [],
   "source": [
    "df_train['Total_Square_Feet'] = (df_train['BsmtFinSF1'] + df_train['BsmtFinSF2'] + df_train['1stFlrSF'] + \n",
    "                                                                 df_train['2ndFlrSF'] + df_train['TotalBsmtSF'])"
   ]
  },
  {
   "cell_type": "markdown",
   "id": "783b599c",
   "metadata": {
    "id": "783b599c"
   },
   "source": [
    "***2.Total number of Baths in the house can be computed as: Total_Bath = FullBath + 0.5 * HalfBath + BsmtFullBath + 0.5*BsmtHalfBath***"
   ]
  },
  {
   "cell_type": "code",
   "execution_count": null,
   "id": "1e345db9",
   "metadata": {
    "id": "1e345db9"
   },
   "outputs": [],
   "source": [
    "df_train['Total_Bath'] = (df_train['FullBath'] + (0.5 * df_train['HalfBath']) + df_train['BsmtFullBath'] + \n",
    "                                                                  (0.5 * df_train['BsmtHalfBath']))"
   ]
  },
  {
   "cell_type": "markdown",
   "id": "9910dd95",
   "metadata": {
    "id": "9910dd95"
   },
   "source": [
    "***3.Total_Porch_Area can be computed as: Total_Porch_Area = OpenPorchSF + 3SsnPorch + EnclosedPorch + ScreenPorch + WoodDeckSF***"
   ]
  },
  {
   "cell_type": "code",
   "execution_count": null,
   "id": "a5836464",
   "metadata": {
    "id": "a5836464"
   },
   "outputs": [],
   "source": [
    "df_train['Total_Porch_Area'] = (df_train['OpenPorchSF'] + df_train['3SsnPorch'] + \n",
    "                                df_train['EnclosedPorch'] + df_train['ScreenPorch'] + df_train['WoodDeckSF'])"
   ]
  },
  {
   "cell_type": "markdown",
   "id": "cd5f3282",
   "metadata": {
    "id": "cd5f3282"
   },
   "source": [
    "***4.the size of per room in the house can be computed as: SqFtPerRoom =  GrLivArea/(TotRmsAbvGrd + FullBath + HalfBath + KitchenAbvGr***"
   ]
  },
  {
   "cell_type": "code",
   "execution_count": null,
   "id": "4751aa98",
   "metadata": {
    "id": "4751aa98"
   },
   "outputs": [],
   "source": [
    "df_train['SqFtPerRoom'] = df_train['GrLivArea'] / (df_train['TotRmsAbvGrd'] + df_train['FullBath'] +\n",
    "                                                       df_train['HalfBath'] + df_train['KitchenAbvGr'])"
   ]
  },
  {
   "cell_type": "markdown",
   "id": "e64c09b4",
   "metadata": {
    "id": "e64c09b4"
   },
   "source": [
    "### Transforming Categorical Variables using Scikit-Learn \n",
    "\n"
   ]
  },
  {
   "cell_type": "code",
   "execution_count": null,
   "id": "99bea88a",
   "metadata": {
    "id": "99bea88a"
   },
   "outputs": [],
   "source": [
    "#MSSubClass=The building class\n",
    "df_train['MSSubClass'] = df_train['MSSubClass'].apply(str)\n",
    "\n",
    "\n",
    "#Changing OverallCond into a categorical variable\n",
    "df_train['OverallCond'] = df_train['OverallCond'].astype(str)\n",
    "\n",
    "\n",
    "#Year and month sold are transformed into categorical features.\n",
    "df_train['YrSold'] = df_train['YrSold'].astype(str)\n",
    "df_train['MoSold'] = df_train['MoSold'].astype(str)"
   ]
  },
  {
   "cell_type": "code",
   "execution_count": null,
   "id": "f3a6eaec",
   "metadata": {
    "id": "f3a6eaec",
    "outputId": "49c9b604-6ab4-4227-80ac-c7b0853ec7f0"
   },
   "outputs": [
    {
     "name": "stdout",
     "output_type": "stream",
     "text": [
      "Shape all_data: (1460, 84)\n"
     ]
    }
   ],
   "source": [
    "from sklearn.preprocessing import LabelEncoder\n",
    "cols = ('FireplaceQu', 'BsmtQual', 'BsmtCond', 'GarageQual', 'GarageCond', \n",
    "        'ExterQual', 'ExterCond','HeatingQC', 'PoolQC', 'KitchenQual', 'BsmtFinType1', \n",
    "        'BsmtFinType2', 'Functional', 'Fence', 'BsmtExposure', 'GarageFinish', 'LandSlope',\n",
    "        'LotShape', 'PavedDrive', 'Street', 'Alley', 'CentralAir', 'MSSubClass', 'OverallCond', \n",
    "        'YrSold', 'MoSold')\n",
    "\n",
    "# process columns, apply LabelEncoder to categorical features\n",
    "for c in cols:\n",
    "    lbl = LabelEncoder() \n",
    "    lbl.fit(list(df_train[c].values)) \n",
    "    df_train[c] = lbl.transform(list(df_train[c].values))\n",
    "\n",
    "# shape        \n",
    "print('Shape all_data: {}'.format(df_train.shape))"
   ]
  },
  {
   "cell_type": "code",
   "execution_count": null,
   "id": "9b2a2c4f",
   "metadata": {
    "id": "9b2a2c4f",
    "outputId": "17d650c3-75e5-4798-f4de-5fec02ac7546"
   },
   "outputs": [
    {
     "data": {
      "text/html": [
       "<div>\n",
       "<style scoped>\n",
       "    .dataframe tbody tr th:only-of-type {\n",
       "        vertical-align: middle;\n",
       "    }\n",
       "\n",
       "    .dataframe tbody tr th {\n",
       "        vertical-align: top;\n",
       "    }\n",
       "\n",
       "    .dataframe thead th {\n",
       "        text-align: right;\n",
       "    }\n",
       "</style>\n",
       "<table border=\"1\" class=\"dataframe\">\n",
       "  <thead>\n",
       "    <tr style=\"text-align: right;\">\n",
       "      <th></th>\n",
       "      <th>Id</th>\n",
       "      <th>MSSubClass</th>\n",
       "      <th>MSZoning</th>\n",
       "      <th>LotFrontage</th>\n",
       "      <th>LotArea</th>\n",
       "      <th>Street</th>\n",
       "      <th>Alley</th>\n",
       "      <th>LotShape</th>\n",
       "      <th>LandContour</th>\n",
       "      <th>LotConfig</th>\n",
       "      <th>...</th>\n",
       "      <th>MiscVal</th>\n",
       "      <th>MoSold</th>\n",
       "      <th>YrSold</th>\n",
       "      <th>SaleType</th>\n",
       "      <th>SaleCondition</th>\n",
       "      <th>SalePrice</th>\n",
       "      <th>Total_Square_Feet</th>\n",
       "      <th>Total_Bath</th>\n",
       "      <th>Total_Porch_Area</th>\n",
       "      <th>SqFtPerRoom</th>\n",
       "    </tr>\n",
       "  </thead>\n",
       "  <tbody>\n",
       "    <tr>\n",
       "      <th>0</th>\n",
       "      <td>1</td>\n",
       "      <td>9</td>\n",
       "      <td>RL</td>\n",
       "      <td>65.0</td>\n",
       "      <td>8450</td>\n",
       "      <td>1</td>\n",
       "      <td>1</td>\n",
       "      <td>3</td>\n",
       "      <td>Lvl</td>\n",
       "      <td>Inside</td>\n",
       "      <td>...</td>\n",
       "      <td>0</td>\n",
       "      <td>4</td>\n",
       "      <td>2</td>\n",
       "      <td>WD</td>\n",
       "      <td>Normal</td>\n",
       "      <td>208500</td>\n",
       "      <td>3272</td>\n",
       "      <td>3.5</td>\n",
       "      <td>61</td>\n",
       "      <td>142.500000</td>\n",
       "    </tr>\n",
       "    <tr>\n",
       "      <th>1</th>\n",
       "      <td>2</td>\n",
       "      <td>4</td>\n",
       "      <td>RL</td>\n",
       "      <td>80.0</td>\n",
       "      <td>9600</td>\n",
       "      <td>1</td>\n",
       "      <td>1</td>\n",
       "      <td>3</td>\n",
       "      <td>Lvl</td>\n",
       "      <td>FR2</td>\n",
       "      <td>...</td>\n",
       "      <td>0</td>\n",
       "      <td>7</td>\n",
       "      <td>1</td>\n",
       "      <td>WD</td>\n",
       "      <td>Normal</td>\n",
       "      <td>181500</td>\n",
       "      <td>3502</td>\n",
       "      <td>2.5</td>\n",
       "      <td>298</td>\n",
       "      <td>140.222222</td>\n",
       "    </tr>\n",
       "    <tr>\n",
       "      <th>2</th>\n",
       "      <td>3</td>\n",
       "      <td>9</td>\n",
       "      <td>RL</td>\n",
       "      <td>68.0</td>\n",
       "      <td>11250</td>\n",
       "      <td>1</td>\n",
       "      <td>1</td>\n",
       "      <td>0</td>\n",
       "      <td>Lvl</td>\n",
       "      <td>Inside</td>\n",
       "      <td>...</td>\n",
       "      <td>0</td>\n",
       "      <td>11</td>\n",
       "      <td>2</td>\n",
       "      <td>WD</td>\n",
       "      <td>Normal</td>\n",
       "      <td>223500</td>\n",
       "      <td>3192</td>\n",
       "      <td>3.5</td>\n",
       "      <td>42</td>\n",
       "      <td>178.600000</td>\n",
       "    </tr>\n",
       "    <tr>\n",
       "      <th>3</th>\n",
       "      <td>4</td>\n",
       "      <td>10</td>\n",
       "      <td>RL</td>\n",
       "      <td>60.0</td>\n",
       "      <td>9550</td>\n",
       "      <td>1</td>\n",
       "      <td>1</td>\n",
       "      <td>0</td>\n",
       "      <td>Lvl</td>\n",
       "      <td>Corner</td>\n",
       "      <td>...</td>\n",
       "      <td>0</td>\n",
       "      <td>4</td>\n",
       "      <td>0</td>\n",
       "      <td>WD</td>\n",
       "      <td>Abnorml</td>\n",
       "      <td>140000</td>\n",
       "      <td>2689</td>\n",
       "      <td>2.0</td>\n",
       "      <td>307</td>\n",
       "      <td>190.777778</td>\n",
       "    </tr>\n",
       "    <tr>\n",
       "      <th>4</th>\n",
       "      <td>5</td>\n",
       "      <td>9</td>\n",
       "      <td>RL</td>\n",
       "      <td>84.0</td>\n",
       "      <td>14260</td>\n",
       "      <td>1</td>\n",
       "      <td>1</td>\n",
       "      <td>0</td>\n",
       "      <td>Lvl</td>\n",
       "      <td>FR2</td>\n",
       "      <td>...</td>\n",
       "      <td>0</td>\n",
       "      <td>3</td>\n",
       "      <td>2</td>\n",
       "      <td>WD</td>\n",
       "      <td>Normal</td>\n",
       "      <td>250000</td>\n",
       "      <td>3998</td>\n",
       "      <td>3.5</td>\n",
       "      <td>276</td>\n",
       "      <td>169.076923</td>\n",
       "    </tr>\n",
       "    <tr>\n",
       "      <th>...</th>\n",
       "      <td>...</td>\n",
       "      <td>...</td>\n",
       "      <td>...</td>\n",
       "      <td>...</td>\n",
       "      <td>...</td>\n",
       "      <td>...</td>\n",
       "      <td>...</td>\n",
       "      <td>...</td>\n",
       "      <td>...</td>\n",
       "      <td>...</td>\n",
       "      <td>...</td>\n",
       "      <td>...</td>\n",
       "      <td>...</td>\n",
       "      <td>...</td>\n",
       "      <td>...</td>\n",
       "      <td>...</td>\n",
       "      <td>...</td>\n",
       "      <td>...</td>\n",
       "      <td>...</td>\n",
       "      <td>...</td>\n",
       "      <td>...</td>\n",
       "    </tr>\n",
       "    <tr>\n",
       "      <th>1455</th>\n",
       "      <td>1456</td>\n",
       "      <td>9</td>\n",
       "      <td>RL</td>\n",
       "      <td>62.0</td>\n",
       "      <td>7917</td>\n",
       "      <td>1</td>\n",
       "      <td>1</td>\n",
       "      <td>3</td>\n",
       "      <td>Lvl</td>\n",
       "      <td>Inside</td>\n",
       "      <td>...</td>\n",
       "      <td>0</td>\n",
       "      <td>10</td>\n",
       "      <td>1</td>\n",
       "      <td>WD</td>\n",
       "      <td>Normal</td>\n",
       "      <td>175000</td>\n",
       "      <td>2600</td>\n",
       "      <td>2.5</td>\n",
       "      <td>40</td>\n",
       "      <td>149.727273</td>\n",
       "    </tr>\n",
       "    <tr>\n",
       "      <th>1456</th>\n",
       "      <td>1457</td>\n",
       "      <td>4</td>\n",
       "      <td>RL</td>\n",
       "      <td>85.0</td>\n",
       "      <td>13175</td>\n",
       "      <td>1</td>\n",
       "      <td>1</td>\n",
       "      <td>3</td>\n",
       "      <td>Lvl</td>\n",
       "      <td>Inside</td>\n",
       "      <td>...</td>\n",
       "      <td>0</td>\n",
       "      <td>4</td>\n",
       "      <td>4</td>\n",
       "      <td>WD</td>\n",
       "      <td>Normal</td>\n",
       "      <td>210000</td>\n",
       "      <td>4568</td>\n",
       "      <td>3.0</td>\n",
       "      <td>349</td>\n",
       "      <td>207.300000</td>\n",
       "    </tr>\n",
       "    <tr>\n",
       "      <th>1457</th>\n",
       "      <td>1458</td>\n",
       "      <td>10</td>\n",
       "      <td>RL</td>\n",
       "      <td>66.0</td>\n",
       "      <td>9042</td>\n",
       "      <td>1</td>\n",
       "      <td>1</td>\n",
       "      <td>3</td>\n",
       "      <td>Lvl</td>\n",
       "      <td>Inside</td>\n",
       "      <td>...</td>\n",
       "      <td>2500</td>\n",
       "      <td>7</td>\n",
       "      <td>4</td>\n",
       "      <td>WD</td>\n",
       "      <td>Normal</td>\n",
       "      <td>266500</td>\n",
       "      <td>3767</td>\n",
       "      <td>2.0</td>\n",
       "      <td>60</td>\n",
       "      <td>195.000000</td>\n",
       "    </tr>\n",
       "    <tr>\n",
       "      <th>1458</th>\n",
       "      <td>1459</td>\n",
       "      <td>4</td>\n",
       "      <td>RL</td>\n",
       "      <td>68.0</td>\n",
       "      <td>9717</td>\n",
       "      <td>1</td>\n",
       "      <td>1</td>\n",
       "      <td>3</td>\n",
       "      <td>Lvl</td>\n",
       "      <td>Inside</td>\n",
       "      <td>...</td>\n",
       "      <td>0</td>\n",
       "      <td>6</td>\n",
       "      <td>4</td>\n",
       "      <td>WD</td>\n",
       "      <td>Normal</td>\n",
       "      <td>142125</td>\n",
       "      <td>3234</td>\n",
       "      <td>2.0</td>\n",
       "      <td>478</td>\n",
       "      <td>154.000000</td>\n",
       "    </tr>\n",
       "    <tr>\n",
       "      <th>1459</th>\n",
       "      <td>1460</td>\n",
       "      <td>4</td>\n",
       "      <td>RL</td>\n",
       "      <td>75.0</td>\n",
       "      <td>9937</td>\n",
       "      <td>1</td>\n",
       "      <td>1</td>\n",
       "      <td>3</td>\n",
       "      <td>Lvl</td>\n",
       "      <td>Inside</td>\n",
       "      <td>...</td>\n",
       "      <td>0</td>\n",
       "      <td>8</td>\n",
       "      <td>2</td>\n",
       "      <td>WD</td>\n",
       "      <td>Normal</td>\n",
       "      <td>147500</td>\n",
       "      <td>3632</td>\n",
       "      <td>2.5</td>\n",
       "      <td>804</td>\n",
       "      <td>139.555556</td>\n",
       "    </tr>\n",
       "  </tbody>\n",
       "</table>\n",
       "<p>1460 rows × 84 columns</p>\n",
       "</div>"
      ],
      "text/plain": [
       "        Id  MSSubClass MSZoning  LotFrontage  LotArea  Street  Alley  \\\n",
       "0        1           9       RL         65.0     8450       1      1   \n",
       "1        2           4       RL         80.0     9600       1      1   \n",
       "2        3           9       RL         68.0    11250       1      1   \n",
       "3        4          10       RL         60.0     9550       1      1   \n",
       "4        5           9       RL         84.0    14260       1      1   \n",
       "...    ...         ...      ...          ...      ...     ...    ...   \n",
       "1455  1456           9       RL         62.0     7917       1      1   \n",
       "1456  1457           4       RL         85.0    13175       1      1   \n",
       "1457  1458          10       RL         66.0     9042       1      1   \n",
       "1458  1459           4       RL         68.0     9717       1      1   \n",
       "1459  1460           4       RL         75.0     9937       1      1   \n",
       "\n",
       "      LotShape LandContour LotConfig  ...  MiscVal MoSold YrSold SaleType  \\\n",
       "0            3         Lvl    Inside  ...        0      4      2       WD   \n",
       "1            3         Lvl       FR2  ...        0      7      1       WD   \n",
       "2            0         Lvl    Inside  ...        0     11      2       WD   \n",
       "3            0         Lvl    Corner  ...        0      4      0       WD   \n",
       "4            0         Lvl       FR2  ...        0      3      2       WD   \n",
       "...        ...         ...       ...  ...      ...    ...    ...      ...   \n",
       "1455         3         Lvl    Inside  ...        0     10      1       WD   \n",
       "1456         3         Lvl    Inside  ...        0      4      4       WD   \n",
       "1457         3         Lvl    Inside  ...     2500      7      4       WD   \n",
       "1458         3         Lvl    Inside  ...        0      6      4       WD   \n",
       "1459         3         Lvl    Inside  ...        0      8      2       WD   \n",
       "\n",
       "     SaleCondition SalePrice  Total_Square_Feet  Total_Bath  Total_Porch_Area  \\\n",
       "0           Normal    208500               3272         3.5                61   \n",
       "1           Normal    181500               3502         2.5               298   \n",
       "2           Normal    223500               3192         3.5                42   \n",
       "3          Abnorml    140000               2689         2.0               307   \n",
       "4           Normal    250000               3998         3.5               276   \n",
       "...            ...       ...                ...         ...               ...   \n",
       "1455        Normal    175000               2600         2.5                40   \n",
       "1456        Normal    210000               4568         3.0               349   \n",
       "1457        Normal    266500               3767         2.0                60   \n",
       "1458        Normal    142125               3234         2.0               478   \n",
       "1459        Normal    147500               3632         2.5               804   \n",
       "\n",
       "      SqFtPerRoom  \n",
       "0      142.500000  \n",
       "1      140.222222  \n",
       "2      178.600000  \n",
       "3      190.777778  \n",
       "4      169.076923  \n",
       "...           ...  \n",
       "1455   149.727273  \n",
       "1456   207.300000  \n",
       "1457   195.000000  \n",
       "1458   154.000000  \n",
       "1459   139.555556  \n",
       "\n",
       "[1460 rows x 84 columns]"
      ]
     },
     "execution_count": 38,
     "metadata": {},
     "output_type": "execute_result"
    }
   ],
   "source": [
    "df_train"
   ]
  },
  {
   "cell_type": "markdown",
   "id": "2e530ed2",
   "metadata": {
    "id": "2e530ed2"
   },
   "source": [
    "### Check skewness or distribution of numeric variables"
   ]
  },
  {
   "cell_type": "code",
   "execution_count": null,
   "id": "d95c239a",
   "metadata": {
    "id": "d95c239a"
   },
   "outputs": [],
   "source": [
    "# find all the columsn of numeric variables \n",
    "numeric_feats = df_train.dtypes[df_train.dtypes != \"object\"].index"
   ]
  },
  {
   "cell_type": "code",
   "execution_count": null,
   "id": "a36fd8ab",
   "metadata": {
    "id": "a36fd8ab",
    "outputId": "39d251ac-ba97-454f-a38b-6accddd90a56"
   },
   "outputs": [
    {
     "data": {
      "text/plain": [
       "Index(['Id', 'MSSubClass', 'LotFrontage', 'LotArea', 'Street', 'Alley',\n",
       "       'LotShape', 'LandSlope', 'OverallQual', 'OverallCond', 'YearBuilt',\n",
       "       'YearRemodAdd', 'MasVnrArea', 'ExterQual', 'ExterCond', 'BsmtQual',\n",
       "       'BsmtCond', 'BsmtExposure', 'BsmtFinType1', 'BsmtFinSF1',\n",
       "       'BsmtFinType2', 'BsmtFinSF2', 'BsmtUnfSF', 'TotalBsmtSF', 'HeatingQC',\n",
       "       'CentralAir', '1stFlrSF', '2ndFlrSF', 'LowQualFinSF', 'GrLivArea',\n",
       "       'BsmtFullBath', 'BsmtHalfBath', 'FullBath', 'HalfBath', 'BedroomAbvGr',\n",
       "       'KitchenAbvGr', 'KitchenQual', 'TotRmsAbvGrd', 'Functional',\n",
       "       'Fireplaces', 'FireplaceQu', 'GarageYrBlt', 'GarageFinish',\n",
       "       'GarageCars', 'GarageArea', 'GarageQual', 'GarageCond', 'PavedDrive',\n",
       "       'WoodDeckSF', 'OpenPorchSF', 'EnclosedPorch', '3SsnPorch',\n",
       "       'ScreenPorch', 'PoolArea', 'PoolQC', 'Fence', 'MiscVal', 'MoSold',\n",
       "       'YrSold', 'SalePrice', 'Total_Square_Feet', 'Total_Bath',\n",
       "       'Total_Porch_Area', 'SqFtPerRoom'],\n",
       "      dtype='object')"
      ]
     },
     "execution_count": 40,
     "metadata": {},
     "output_type": "execute_result"
    }
   ],
   "source": [
    "numeric_feats"
   ]
  },
  {
   "cell_type": "code",
   "execution_count": null,
   "id": "7ee704d3",
   "metadata": {
    "id": "7ee704d3",
    "outputId": "bfec2a30-b6e0-43f5-d4a0-066201a048bf"
   },
   "outputs": [
    {
     "name": "stdout",
     "output_type": "stream",
     "text": [
      "\n",
      "Skew in numerical features: \n",
      "\n"
     ]
    },
    {
     "data": {
      "text/html": [
       "<div>\n",
       "<style scoped>\n",
       "    .dataframe tbody tr th:only-of-type {\n",
       "        vertical-align: middle;\n",
       "    }\n",
       "\n",
       "    .dataframe tbody tr th {\n",
       "        vertical-align: top;\n",
       "    }\n",
       "\n",
       "    .dataframe thead th {\n",
       "        text-align: right;\n",
       "    }\n",
       "</style>\n",
       "<table border=\"1\" class=\"dataframe\">\n",
       "  <thead>\n",
       "    <tr style=\"text-align: right;\">\n",
       "      <th></th>\n",
       "      <th>Skew</th>\n",
       "    </tr>\n",
       "  </thead>\n",
       "  <tbody>\n",
       "    <tr>\n",
       "      <th>MiscVal</th>\n",
       "      <td>24.451640</td>\n",
       "    </tr>\n",
       "    <tr>\n",
       "      <th>PoolArea</th>\n",
       "      <td>14.813135</td>\n",
       "    </tr>\n",
       "    <tr>\n",
       "      <th>LotArea</th>\n",
       "      <td>12.195142</td>\n",
       "    </tr>\n",
       "    <tr>\n",
       "      <th>3SsnPorch</th>\n",
       "      <td>10.293752</td>\n",
       "    </tr>\n",
       "    <tr>\n",
       "      <th>LowQualFinSF</th>\n",
       "      <td>9.002080</td>\n",
       "    </tr>\n",
       "    <tr>\n",
       "      <th>LandSlope</th>\n",
       "      <td>4.808735</td>\n",
       "    </tr>\n",
       "    <tr>\n",
       "      <th>KitchenAbvGr</th>\n",
       "      <td>4.483784</td>\n",
       "    </tr>\n",
       "    <tr>\n",
       "      <th>BsmtFinSF2</th>\n",
       "      <td>4.250888</td>\n",
       "    </tr>\n",
       "    <tr>\n",
       "      <th>ScreenPorch</th>\n",
       "      <td>4.117977</td>\n",
       "    </tr>\n",
       "    <tr>\n",
       "      <th>BsmtHalfBath</th>\n",
       "      <td>4.099186</td>\n",
       "    </tr>\n",
       "  </tbody>\n",
       "</table>\n",
       "</div>"
      ],
      "text/plain": [
       "                   Skew\n",
       "MiscVal       24.451640\n",
       "PoolArea      14.813135\n",
       "LotArea       12.195142\n",
       "3SsnPorch     10.293752\n",
       "LowQualFinSF   9.002080\n",
       "LandSlope      4.808735\n",
       "KitchenAbvGr   4.483784\n",
       "BsmtFinSF2     4.250888\n",
       "ScreenPorch    4.117977\n",
       "BsmtHalfBath   4.099186"
      ]
     },
     "execution_count": 41,
     "metadata": {},
     "output_type": "execute_result"
    }
   ],
   "source": [
    "# Check the skew of all numerical features\n",
    "skewed_feats = df_train[numeric_feats].apply(lambda x: skew(x.dropna())).sort_values(ascending=False)\n",
    "print(\"\\nSkew in numerical features: \\n\")\n",
    "skewness = pd.DataFrame({'Skew' :skewed_feats})\n",
    "skewness.head(10)"
   ]
  },
  {
   "cell_type": "markdown",
   "id": "d5b9a977",
   "metadata": {
    "id": "d5b9a977"
   },
   "source": [
    "***We find the skewed features and then perform Box Cox Transformation of highly skewed features.***"
   ]
  },
  {
   "cell_type": "code",
   "execution_count": null,
   "id": "54dc7f11",
   "metadata": {
    "id": "54dc7f11",
    "outputId": "48afaaf5-9273-4495-95e4-69e435ba190b"
   },
   "outputs": [
    {
     "name": "stdout",
     "output_type": "stream",
     "text": [
      "There are 64 skewed numerical features to Box Cox transform\n"
     ]
    }
   ],
   "source": [
    "skewness = skewness[abs(skewness) > 0.75]\n",
    "print(\"There are {} skewed numerical features to Box Cox transform\".format(skewness.shape[0]))\n",
    "\n",
    "from scipy.special import boxcox1p\n",
    "skewed_features = skewness.index\n",
    "lam = 0.15\n",
    "for feat in skewed_features:\n",
    "    #all_data[feat] += 1\n",
    "    df_train[feat] = boxcox1p(df_train[feat], lam)\n"
   ]
  },
  {
   "cell_type": "markdown",
   "id": "0781d7f4",
   "metadata": {
    "id": "0781d7f4"
   },
   "source": [
    "### Getting dummy categorical features"
   ]
  },
  {
   "cell_type": "code",
   "execution_count": null,
   "id": "c4debe04",
   "metadata": {
    "id": "c4debe04",
    "outputId": "2108485a-d485-4802-e62a-4376641a5c20"
   },
   "outputs": [
    {
     "name": "stdout",
     "output_type": "stream",
     "text": [
      "(1460, 226)\n"
     ]
    }
   ],
   "source": [
    "#Getting dummy categorical features.\n",
    "df_train = pd.get_dummies(df_train)\n",
    "print(df_train.shape)"
   ]
  },
  {
   "cell_type": "code",
   "execution_count": null,
   "id": "e123051d",
   "metadata": {
    "id": "e123051d",
    "outputId": "8f68083e-ed7f-469b-8c65-fb5ba81c0f36"
   },
   "outputs": [
    {
     "data": {
      "text/html": [
       "<div>\n",
       "<style scoped>\n",
       "    .dataframe tbody tr th:only-of-type {\n",
       "        vertical-align: middle;\n",
       "    }\n",
       "\n",
       "    .dataframe tbody tr th {\n",
       "        vertical-align: top;\n",
       "    }\n",
       "\n",
       "    .dataframe thead th {\n",
       "        text-align: right;\n",
       "    }\n",
       "</style>\n",
       "<table border=\"1\" class=\"dataframe\">\n",
       "  <thead>\n",
       "    <tr style=\"text-align: right;\">\n",
       "      <th></th>\n",
       "      <th>Id</th>\n",
       "      <th>MSSubClass</th>\n",
       "      <th>LotFrontage</th>\n",
       "      <th>LotArea</th>\n",
       "      <th>Street</th>\n",
       "      <th>Alley</th>\n",
       "      <th>LotShape</th>\n",
       "      <th>LandSlope</th>\n",
       "      <th>OverallQual</th>\n",
       "      <th>OverallCond</th>\n",
       "      <th>...</th>\n",
       "      <th>SaleType_ConLw</th>\n",
       "      <th>SaleType_New</th>\n",
       "      <th>SaleType_Oth</th>\n",
       "      <th>SaleType_WD</th>\n",
       "      <th>SaleCondition_Abnorml</th>\n",
       "      <th>SaleCondition_AdjLand</th>\n",
       "      <th>SaleCondition_Alloca</th>\n",
       "      <th>SaleCondition_Family</th>\n",
       "      <th>SaleCondition_Normal</th>\n",
       "      <th>SaleCondition_Partial</th>\n",
       "    </tr>\n",
       "  </thead>\n",
       "  <tbody>\n",
       "    <tr>\n",
       "      <th>0</th>\n",
       "      <td>0.730463</td>\n",
       "      <td>2.750250</td>\n",
       "      <td>5.831328</td>\n",
       "      <td>19.212182</td>\n",
       "      <td>0.730463</td>\n",
       "      <td>0.730463</td>\n",
       "      <td>1.540963</td>\n",
       "      <td>0.0</td>\n",
       "      <td>2.440268</td>\n",
       "      <td>1.820334</td>\n",
       "      <td>...</td>\n",
       "      <td>0</td>\n",
       "      <td>0</td>\n",
       "      <td>0</td>\n",
       "      <td>1</td>\n",
       "      <td>0</td>\n",
       "      <td>0</td>\n",
       "      <td>0</td>\n",
       "      <td>0</td>\n",
       "      <td>1</td>\n",
       "      <td>0</td>\n",
       "    </tr>\n",
       "    <tr>\n",
       "      <th>1</th>\n",
       "      <td>1.194318</td>\n",
       "      <td>1.820334</td>\n",
       "      <td>6.221214</td>\n",
       "      <td>19.712205</td>\n",
       "      <td>0.730463</td>\n",
       "      <td>0.730463</td>\n",
       "      <td>1.540963</td>\n",
       "      <td>0.0</td>\n",
       "      <td>2.259674</td>\n",
       "      <td>2.440268</td>\n",
       "      <td>...</td>\n",
       "      <td>0</td>\n",
       "      <td>0</td>\n",
       "      <td>0</td>\n",
       "      <td>1</td>\n",
       "      <td>0</td>\n",
       "      <td>0</td>\n",
       "      <td>0</td>\n",
       "      <td>0</td>\n",
       "      <td>1</td>\n",
       "      <td>0</td>\n",
       "    </tr>\n",
       "    <tr>\n",
       "      <th>2</th>\n",
       "      <td>1.540963</td>\n",
       "      <td>2.750250</td>\n",
       "      <td>5.914940</td>\n",
       "      <td>20.347241</td>\n",
       "      <td>0.730463</td>\n",
       "      <td>0.730463</td>\n",
       "      <td>0.000000</td>\n",
       "      <td>0.0</td>\n",
       "      <td>2.440268</td>\n",
       "      <td>1.820334</td>\n",
       "      <td>...</td>\n",
       "      <td>0</td>\n",
       "      <td>0</td>\n",
       "      <td>0</td>\n",
       "      <td>1</td>\n",
       "      <td>0</td>\n",
       "      <td>0</td>\n",
       "      <td>0</td>\n",
       "      <td>0</td>\n",
       "      <td>1</td>\n",
       "      <td>0</td>\n",
       "    </tr>\n",
       "    <tr>\n",
       "      <th>3</th>\n",
       "      <td>1.820334</td>\n",
       "      <td>2.885846</td>\n",
       "      <td>5.684507</td>\n",
       "      <td>19.691553</td>\n",
       "      <td>0.730463</td>\n",
       "      <td>0.730463</td>\n",
       "      <td>0.000000</td>\n",
       "      <td>0.0</td>\n",
       "      <td>2.440268</td>\n",
       "      <td>1.820334</td>\n",
       "      <td>...</td>\n",
       "      <td>0</td>\n",
       "      <td>0</td>\n",
       "      <td>0</td>\n",
       "      <td>1</td>\n",
       "      <td>1</td>\n",
       "      <td>0</td>\n",
       "      <td>0</td>\n",
       "      <td>0</td>\n",
       "      <td>0</td>\n",
       "      <td>0</td>\n",
       "    </tr>\n",
       "    <tr>\n",
       "      <th>4</th>\n",
       "      <td>2.055642</td>\n",
       "      <td>2.750250</td>\n",
       "      <td>6.314735</td>\n",
       "      <td>21.325160</td>\n",
       "      <td>0.730463</td>\n",
       "      <td>0.730463</td>\n",
       "      <td>0.000000</td>\n",
       "      <td>0.0</td>\n",
       "      <td>2.602594</td>\n",
       "      <td>1.820334</td>\n",
       "      <td>...</td>\n",
       "      <td>0</td>\n",
       "      <td>0</td>\n",
       "      <td>0</td>\n",
       "      <td>1</td>\n",
       "      <td>0</td>\n",
       "      <td>0</td>\n",
       "      <td>0</td>\n",
       "      <td>0</td>\n",
       "      <td>1</td>\n",
       "      <td>0</td>\n",
       "    </tr>\n",
       "  </tbody>\n",
       "</table>\n",
       "<p>5 rows × 226 columns</p>\n",
       "</div>"
      ],
      "text/plain": [
       "         Id  MSSubClass  LotFrontage    LotArea    Street     Alley  LotShape  \\\n",
       "0  0.730463    2.750250     5.831328  19.212182  0.730463  0.730463  1.540963   \n",
       "1  1.194318    1.820334     6.221214  19.712205  0.730463  0.730463  1.540963   \n",
       "2  1.540963    2.750250     5.914940  20.347241  0.730463  0.730463  0.000000   \n",
       "3  1.820334    2.885846     5.684507  19.691553  0.730463  0.730463  0.000000   \n",
       "4  2.055642    2.750250     6.314735  21.325160  0.730463  0.730463  0.000000   \n",
       "\n",
       "   LandSlope  OverallQual  OverallCond  ...  SaleType_ConLw  SaleType_New  \\\n",
       "0        0.0     2.440268     1.820334  ...               0             0   \n",
       "1        0.0     2.259674     2.440268  ...               0             0   \n",
       "2        0.0     2.440268     1.820334  ...               0             0   \n",
       "3        0.0     2.440268     1.820334  ...               0             0   \n",
       "4        0.0     2.602594     1.820334  ...               0             0   \n",
       "\n",
       "   SaleType_Oth  SaleType_WD  SaleCondition_Abnorml  SaleCondition_AdjLand  \\\n",
       "0             0            1                      0                      0   \n",
       "1             0            1                      0                      0   \n",
       "2             0            1                      0                      0   \n",
       "3             0            1                      1                      0   \n",
       "4             0            1                      0                      0   \n",
       "\n",
       "   SaleCondition_Alloca  SaleCondition_Family  SaleCondition_Normal  \\\n",
       "0                     0                     0                     1   \n",
       "1                     0                     0                     1   \n",
       "2                     0                     0                     1   \n",
       "3                     0                     0                     0   \n",
       "4                     0                     0                     1   \n",
       "\n",
       "   SaleCondition_Partial  \n",
       "0                      0  \n",
       "1                      0  \n",
       "2                      0  \n",
       "3                      0  \n",
       "4                      0  \n",
       "\n",
       "[5 rows x 226 columns]"
      ]
     },
     "execution_count": 44,
     "metadata": {},
     "output_type": "execute_result"
    }
   ],
   "source": [
    "df_train.head()"
   ]
  },
  {
   "cell_type": "markdown",
   "id": "1d75feb1",
   "metadata": {
    "id": "1d75feb1"
   },
   "source": [
    "<hr style=\"border:2px solid gray\">\n",
    "\n",
    "\n",
    "<font color='orange'>\n",
    "\n",
    "\n",
    "<a name= \"Step1\"></a>\n",
    "    \n",
    "## Ensure you've properly connected your dataset and run the previous cells in this notebook. "
   ]
  },
  {
   "cell_type": "markdown",
   "id": "58f535cb",
   "metadata": {
    "id": "58f535cb"
   },
   "source": [
    "## Univariate Analysis"
   ]
  },
  {
   "cell_type": "markdown",
   "id": "5ba26d15",
   "metadata": {
    "id": "5ba26d15"
   },
   "source": [
    "***Target Variable Analysis***\n",
    "\n",
    "***Check the distribution of the Sale Price variable***"
   ]
  },
  {
   "cell_type": "code",
   "execution_count": null,
   "id": "ff92e7d6",
   "metadata": {
    "id": "ff92e7d6"
   },
   "outputs": [],
   "source": []
  },
  {
   "cell_type": "code",
   "execution_count": null,
   "id": "dd419215",
   "metadata": {
    "id": "dd419215"
   },
   "outputs": [],
   "source": []
  },
  {
   "cell_type": "code",
   "execution_count": null,
   "id": "fe6e37e4",
   "metadata": {
    "id": "fe6e37e4"
   },
   "outputs": [],
   "source": []
  },
  {
   "cell_type": "code",
   "execution_count": null,
   "id": "92539e46",
   "metadata": {
    "id": "92539e46"
   },
   "outputs": [],
   "source": []
  },
  {
   "cell_type": "markdown",
   "id": "0deb74a9",
   "metadata": {
    "id": "0deb74a9"
   },
   "source": [
    "# Multivariate Analysis"
   ]
  },
  {
   "cell_type": "markdown",
   "id": "a77d5c46",
   "metadata": {
    "id": "a77d5c46"
   },
   "source": [
    "### Correlation matrix"
   ]
  },
  {
   "cell_type": "code",
   "execution_count": null,
   "id": "cd342708",
   "metadata": {
    "id": "cd342708"
   },
   "outputs": [],
   "source": []
  },
  {
   "cell_type": "code",
   "execution_count": null,
   "id": "ffff3502",
   "metadata": {
    "id": "ffff3502"
   },
   "outputs": [],
   "source": []
  },
  {
   "cell_type": "code",
   "execution_count": null,
   "id": "b7eef8c6",
   "metadata": {
    "id": "b7eef8c6"
   },
   "outputs": [],
   "source": []
  },
  {
   "cell_type": "markdown",
   "id": "8debc272",
   "metadata": {
    "id": "8debc272"
   },
   "source": [
    "\n",
    "\n",
    "#<font color = 'orange'> STOP HERE"
   ]
  },
  {
   "cell_type": "markdown",
   "id": "620bea1e",
   "metadata": {
    "id": "620bea1e"
   },
   "source": [
    "### Relation Exploration for Few Numerical Variables and categorical features"
   ]
  },
  {
   "cell_type": "code",
   "execution_count": null,
   "id": "82d2fd42",
   "metadata": {
    "id": "82d2fd42"
   },
   "outputs": [],
   "source": [
    "# Making Function for plotting and checking the relation between two columns \n",
    "def plot_data(col, discrete=False):\n",
    "    if discrete:\n",
    "        fig, ax = plt.subplots(1,2,figsize=(14,6))\n",
    "        sns.stripplot(x=col, y='SalePrice', data=df_train, ax=ax[0])\n",
    "        sns.countplot(df_train[col], ax=ax[1])\n",
    "        fig.suptitle(str(col) + ' Analysis')\n",
    "    else:\n",
    "        fig, ax = plt.subplots(1,2,figsize=(12,6))\n",
    "        sns.scatterplot(x=col, y='SalePrice', data=df_train, ax=ax[0])\n",
    "        sns.distplot(df_train[col], kde=False, ax=ax[1])\n",
    "        fig.suptitle(str(col) + ' Analysis')"
   ]
  },
  {
   "cell_type": "markdown",
   "id": "721e9354",
   "metadata": {
    "id": "721e9354"
   },
   "source": [
    "#### Relation Exploration for Few Numerical Variables"
   ]
  },
  {
   "cell_type": "code",
   "execution_count": null,
   "id": "15106880",
   "metadata": {
    "id": "15106880"
   },
   "outputs": [],
   "source": [
    "plot_data('GrLivArea')"
   ]
  },
  {
   "cell_type": "markdown",
   "id": "dd6a0131",
   "metadata": {
    "id": "dd6a0131"
   },
   "source": [
    "'GrLivArea' seem to be linearly related with 'SalePrice'. The relationship is positive, which means that as one variable increases, the other also increases. "
   ]
  },
  {
   "cell_type": "code",
   "execution_count": null,
   "id": "48a058ec",
   "metadata": {
    "id": "48a058ec"
   },
   "outputs": [],
   "source": [
    "plot_data('TotalBsmtSF')"
   ]
  },
  {
   "cell_type": "markdown",
   "id": "bc5d15fb",
   "metadata": {
    "id": "bc5d15fb"
   },
   "source": [
    "'TotalBsmtSF' also seem to be linearly related with 'SalePrice'. The relationship is positive, which means that as one variable increases, the other also increases. However, it has outliers so we need to move them. "
   ]
  },
  {
   "cell_type": "code",
   "execution_count": null,
   "id": "2d2579a2",
   "metadata": {
    "id": "2d2579a2"
   },
   "outputs": [],
   "source": []
  },
  {
   "cell_type": "code",
   "execution_count": null,
   "id": "5d8d2a63",
   "metadata": {
    "id": "5d8d2a63"
   },
   "outputs": [],
   "source": [
    "df_train = df_train.drop(df_train[(df_train['TotalBsmtSF'] > 3000) & (df_train['SalePrice'] < 400000)].index)"
   ]
  },
  {
   "cell_type": "markdown",
   "id": "5dca699e",
   "metadata": {
    "id": "5dca699e"
   },
   "source": [
    "####  Relation Exploration for categorical features"
   ]
  },
  {
   "cell_type": "code",
   "execution_count": null,
   "id": "c51114b4",
   "metadata": {
    "id": "c51114b4"
   },
   "outputs": [],
   "source": [
    "# plot saleprice vs. overallqual\n",
    "fig, ax = plt.subplots(1,2,figsize=(14,6))\n",
    "sns.stripplot(x='OverallQual', y='SalePrice', data=df_train, ax=ax[0])\n",
    "ax[0].tick_params(axis='x', labelrotation = 45)\n",
    "sns.countplot(df_train['OverallQual'], ax=ax[1])\n",
    "ax[1].tick_params(axis='x', labelrotation = 45)\n",
    "fig.suptitle(str(col) + ' Analysis')"
   ]
  },
  {
   "cell_type": "code",
   "execution_count": null,
   "id": "7bbfe30f",
   "metadata": {
    "id": "7bbfe30f"
   },
   "outputs": [],
   "source": [
    "# drop off the outliers \n",
    "df_train = df_train.drop(df_train[(df_train['OverallQual'] == 10) & (df_train['SalePrice'] < 200000)].index)"
   ]
  },
  {
   "cell_type": "code",
   "execution_count": null,
   "id": "9fde2733",
   "metadata": {
    "id": "9fde2733"
   },
   "outputs": [],
   "source": [
    "# plot saleprices vs total_bath\n",
    "plot_data('Total_Bath')"
   ]
  },
  {
   "cell_type": "code",
   "execution_count": null,
   "id": "9fbcdee0",
   "metadata": {
    "id": "9fbcdee0"
   },
   "outputs": [],
   "source": [
    "# Dropping the outliers in the data\n",
    "df_train = df_train.drop(df_train[(df_train['Total_Bath'] > 4) & (df_train['SalePrice'] < 200000)].index)"
   ]
  },
  {
   "cell_type": "code",
   "execution_count": null,
   "id": "ae204700",
   "metadata": {
    "id": "ae204700"
   },
   "outputs": [],
   "source": [
    "df_train.reset_index()"
   ]
  },
  {
   "cell_type": "markdown",
   "id": "e8602002",
   "metadata": {
    "id": "e8602002"
   },
   "source": [
    "## Deal with outliers"
   ]
  },
  {
   "cell_type": "code",
   "execution_count": null,
   "id": "1a9d1cc8",
   "metadata": {
    "id": "1a9d1cc8"
   },
   "outputs": [],
   "source": [
    "from sklearn.ensemble import IsolationForest #isolation forest for the remove outliers\n",
    "\n",
    "clf = IsolationForest(max_samples = 100, random_state = 42)\n",
    "clf.fit(df_train)\n",
    "y_noano = clf.predict(df_train)\n",
    "y_noano = pd.DataFrame(y_noano, columns = ['Top'])\n",
    "y_noano[y_noano['Top'] == 1].index.values\n",
    "\n",
    "df_train = df_train.iloc[y_noano[y_noano['Top'] == 1].index.values]\n",
    "df_train.reset_index(drop = True, inplace = True)\n",
    "print(\"Number of Outliers:\", y_noano[y_noano['Top'] == -1].shape[0])\n",
    "print(\"Number of rows without outliers:\", df_train.shape[0])"
   ]
  },
  {
   "cell_type": "markdown",
   "id": "5be34559",
   "metadata": {
    "id": "5be34559"
   },
   "source": [
    "# Feature selection using Wrapper Methods \n",
    "\n",
    "* In wrapper methods, we try to use a subset of features and train a model using them. Based on the inferences that we draw from the previous model, we decide to add or remove features from the subset. The problem is essentially reduced to a search problem. These methods are usually computationally very expensive.\n",
    "\n",
    "* Some common examples of wrapper methods are\n",
    "\n",
    "<ol>\n",
    "    <li>Forward selection,</li>\n",
    "<li>Backward elimination,</li>\n",
    "<li>Exhaustive feature selection,</li>\n",
    "<li>Recursive feature elimination.</li>\n",
    "<li>Recursive feature elimination with cross-validation</li>\n",
    "</ol>\n",
    "\n",
    "\n",
    "We will only demonstrate the Step Forward feature selection algorithm from mlxtend on the train dataset for this project. "
   ]
  },
  {
   "cell_type": "markdown",
   "id": "b7d973b9",
   "metadata": {
    "id": "b7d973b9"
   },
   "source": []
  },
  {
   "cell_type": "code",
   "execution_count": null,
   "id": "4d9ce0a9",
   "metadata": {
    "id": "4d9ce0a9"
   },
   "outputs": [],
   "source": [
    "# step forward feature selection\n",
    "\n",
    "from sklearn.model_selection import train_test_split\n",
    "from sklearn.ensemble import RandomForestRegressor\n",
    "from sklearn.metrics import r2_score\n",
    "from mlxtend.feature_selection import SequentialFeatureSelector as SFS"
   ]
  },
  {
   "cell_type": "code",
   "execution_count": null,
   "id": "8b438e99",
   "metadata": {
    "id": "8b438e99"
   },
   "outputs": [],
   "source": [
    "df_train.shape"
   ]
  },
  {
   "cell_type": "code",
   "execution_count": null,
   "id": "d77beb47",
   "metadata": {
    "id": "d77beb47"
   },
   "outputs": [],
   "source": [
    "# In practice, feature selection should be done after data pre-processing,\n",
    "# so ideally, all the categorical variables are encoded into numbers,\n",
    "# and then you can assess how deterministic they are of the target\n",
    "\n",
    "# here for simplicity I will use only numerical variables\n",
    "# select numerical columns:\n",
    "\n",
    "numerics = ['int16', 'int32', 'int64', 'float16', 'float32', 'float64']\n",
    "numerical_vars = list(df_train.select_dtypes(include=numerics).columns)\n",
    "df_train = df_train[numerical_vars]\n",
    "df_train.shape"
   ]
  },
  {
   "cell_type": "code",
   "execution_count": null,
   "id": "4720a444",
   "metadata": {
    "id": "4720a444"
   },
   "outputs": [],
   "source": [
    "# separate train and test sets\n",
    "X_train, X_test, y_train, y_test = train_test_split(\n",
    "    df_train.drop(labels=['SalePrice'], axis=1),\n",
    "    df_train['SalePrice'],\n",
    "    test_size=0.3,\n",
    "    random_state=0)\n",
    "\n",
    "X_train.shape, X_test.shape"
   ]
  },
  {
   "cell_type": "code",
   "execution_count": null,
   "id": "cb9c9029",
   "metadata": {
    "id": "cb9c9029"
   },
   "outputs": [],
   "source": [
    "# find and remove correlated features\n",
    "def correlation(dataset, threshold):\n",
    "    col_corr = set()  # Set of all the names of correlated columns\n",
    "    corr_matrix = dataset.corr()\n",
    "    for i in range(len(corr_matrix.columns)):\n",
    "        for j in range(i):\n",
    "            if abs(corr_matrix.iloc[i, j]) > threshold: # we are interested in absolute coeff value\n",
    "                colname = corr_matrix.columns[i]  # getting the name of column\n",
    "                col_corr.add(colname)\n",
    "    return col_corr\n",
    "\n",
    "corr_features = correlation(X_train, 0.8)\n",
    "print('correlated features: ', len(set(corr_features)) )"
   ]
  },
  {
   "cell_type": "code",
   "execution_count": null,
   "id": "ed249645",
   "metadata": {
    "id": "ed249645"
   },
   "outputs": [],
   "source": [
    "# removed correlated  features\n",
    "X_train.drop(labels=corr_features, axis=1, inplace=True)\n",
    "X_test.drop(labels=corr_features, axis=1, inplace=True)\n",
    "\n",
    "X_train.shape, X_test.shape"
   ]
  },
  {
   "cell_type": "code",
   "execution_count": null,
   "id": "0613799f",
   "metadata": {
    "id": "0613799f"
   },
   "outputs": [],
   "source": [
    "X_train.fillna(0, inplace=True)"
   ]
  },
  {
   "cell_type": "code",
   "execution_count": null,
   "id": "03db3eb3",
   "metadata": {
    "id": "03db3eb3"
   },
   "outputs": [],
   "source": [
    "# step forward feature selection\n",
    "\n",
    "from mlxtend.feature_selection import SequentialFeatureSelector as SFS\n",
    "\n",
    "sfs1 = SFS(RandomForestRegressor(), \n",
    "           k_features=10, \n",
    "           forward=True, \n",
    "           floating=False, \n",
    "           verbose=2,\n",
    "           scoring='r2',\n",
    "           cv=3)\n",
    "\n",
    "sfs1 = sfs1.fit(np.array(X_train), y_train)"
   ]
  },
  {
   "cell_type": "code",
   "execution_count": null,
   "id": "81125f55",
   "metadata": {
    "id": "81125f55"
   },
   "outputs": [],
   "source": [
    "sfs1.k_feature_idx_"
   ]
  },
  {
   "cell_type": "code",
   "execution_count": null,
   "id": "2ba04d7a",
   "metadata": {
    "id": "2ba04d7a"
   },
   "outputs": [],
   "source": [
    "X_train.columns[list(sfs1.k_feature_idx_)]"
   ]
  },
  {
   "cell_type": "markdown",
   "id": "945e33bc",
   "metadata": {
    "id": "945e33bc"
   },
   "source": [
    "We can see that forward feature selection results in the above columns being selected from all the given columns."
   ]
  },
  {
   "cell_type": "markdown",
   "id": "5a7c23db",
   "metadata": {
    "id": "5a7c23db"
   },
   "source": [
    "## Predict house prices \n",
    "\n",
    "### Linear Regression \n",
    "\n",
    "Assume that there is a linear relationship between the dependent variable and the independent variable/s, then we can use the linear regression as a predictive model. \n",
    "\n",
    "For this project, $Y$ (dependent variable) is the house price ('SalePrice') which we want to predict, and $X_1, X_2, \\cdots$ (independent variables) which are the features of the house (based on feature selection above, these top features are: \n",
    "- 'MSSubClass', \n",
    "- 'OverallQual', \n",
    "- 'OverallCond', \n",
    "- 'BsmtUnfSF', \n",
    "- 'HeatingQC',\n",
    "- 'KitchenQual', \n",
    "- 'Fireplaces', \n",
    "- 'GarageCars', \n",
    "- 'Total_Square_Feet',\n",
    "- 'Total_Bath' "
   ]
  },
  {
   "cell_type": "code",
   "execution_count": null,
   "id": "5e7caa80",
   "metadata": {
    "id": "5e7caa80"
   },
   "outputs": [],
   "source": [
    "# only include the important feature in your training data X \n",
    "X = df_train[X_train.columns[list(sfs1.k_feature_idx_)]]"
   ]
  },
  {
   "cell_type": "code",
   "execution_count": null,
   "id": "3cf8de67",
   "metadata": {
    "id": "3cf8de67"
   },
   "outputs": [],
   "source": [
    "X.head()"
   ]
  },
  {
   "cell_type": "code",
   "execution_count": null,
   "id": "00cc7ee8",
   "metadata": {
    "id": "00cc7ee8"
   },
   "outputs": [],
   "source": [
    "# target variable is SalePrice\n",
    "y = df_train['SalePrice'].values"
   ]
  },
  {
   "cell_type": "code",
   "execution_count": null,
   "id": "c82b419f",
   "metadata": {
    "id": "c82b419f"
   },
   "outputs": [],
   "source": [
    "X.shape,y.shape"
   ]
  },
  {
   "cell_type": "markdown",
   "id": "9b7666d1",
   "metadata": {
    "id": "9b7666d1"
   },
   "source": [
    "### Linear Regression using Statsmodels"
   ]
  },
  {
   "cell_type": "code",
   "execution_count": null,
   "id": "6750a566",
   "metadata": {
    "id": "6750a566"
   },
   "outputs": [],
   "source": [
    "import statsmodels.api as sm\n",
    "\n",
    "X = sm.add_constant(X) # adding a constant\n",
    "\n",
    "model = sm.OLS(y, X).fit()\n",
    "predictions = model.predict(X) \n",
    "\n",
    "print_model = model.summary()\n",
    "print(print_model)"
   ]
  },
  {
   "cell_type": "markdown",
   "id": "56ebe97c",
   "metadata": {
    "id": "56ebe97c"
   },
   "source": [
    "### Interpreting the Regression Results\n",
    "\n",
    "Here are several important components within the results:\n",
    "\n",
    "* Adjusted. R-squared reflects the fit of the model. R-squared values range from 0 to 1, where a higher value generally indicates a better fit, assuming certain conditions are met.\n",
    "\n",
    "* const coefficient is your Y-intercept. It means that if all the coefficients of the features ('MSSubClass', 'OverallQual', 'OverallCond', 'BsmtUnfSF', 'HeatingQC','KitchenQual', 'Fireplaces', 'GarageCars', 'Total_Square_Feet','Total_Bath') are zero, then the expected output (i.e., the Y) would be equal to the const coefficient.\n",
    "\n",
    "* MSSubClass coefficient represents the change in the output Y due to a change of one unit in the MSSubClass (everything else held constant). The same applies to the other feature coefficients. \n",
    "\n",
    "\n",
    "* std err reflects the level of accuracy of the coefficients. The lower it is, the higher is the level of accuracy\n",
    "\n",
    "* $P >|t|$ is your p-value. A p-value of less than 0.05 is considered to be statistically significant\n",
    "\n",
    "* Confidence Interval represents the range in which our coefficients are likely to fall (with a likelihood of 95%)\\\n",
    "\n",
    "### Making Predictions based on the Regression Results\n",
    "\n",
    "Recall that the equation for the Multiple Linear Regression is:\n",
    "\n",
    "$$ Y = B_0 + B_1 X_1 + B_2 X_2 + \\cdots $$\n",
    "\n",
    "So for our example, it would look like this:\n",
    "\n",
    "$$ \\text{sale_price = (const coef) + (MSSubClass coef) $X_1$ + (OverallQual coef) $X_2$ + (OverallCond coef) $X_3$ + (BsmtUnfSF coef) $X_4$}$$\n",
    "$$ \\text{+ (HeatingQC coef) $X_5$ + (KitchenQual coef) $X_6$ + (Fireplaces coef) $X_7$} $$ \n",
    "$$ \\text{+ (GarageCars coef) $X_8$ + (Total_Square_Feet coef) $X_9$ + (Total_Bath coef) $X_{10}$} $$\n",
    "\n",
    "\n",
    "\n",
    "For further information about the statsmodels module, please refer to the statsmodels documentation: https://www.statsmodels.org/stable/index.html\n"
   ]
  },
  {
   "cell_type": "markdown",
   "id": "658e2503",
   "metadata": {
    "id": "658e2503"
   },
   "source": [
    "### Predict house price using sklearn linear regression and XGBRegressor \n",
    "\n",
    "#### Splitting the dataset into training and testing "
   ]
  },
  {
   "cell_type": "code",
   "execution_count": null,
   "id": "88857360",
   "metadata": {
    "id": "88857360"
   },
   "outputs": [],
   "source": [
    "# 80% training, 20% testing \n",
    "x_train, x_test,y_train,y_test = train_test_split(X,y,test_size =0.2)\n",
    "\n",
    "print('x_train: ', x_train.shape)\n",
    "print('x_test: ', x_test.shape)\n",
    "print('y_train: ', y_train.shape)\n",
    "print('y_test: ', y_test.shape)"
   ]
  },
  {
   "cell_type": "markdown",
   "id": "0b55e13f",
   "metadata": {
    "id": "0b55e13f"
   },
   "source": [
    "#### Build models (Linear Regression and XGBRegressor) "
   ]
  },
  {
   "cell_type": "code",
   "execution_count": null,
   "id": "764f66d2",
   "metadata": {
    "id": "764f66d2"
   },
   "outputs": [],
   "source": [
    "pip install xgboost"
   ]
  },
  {
   "cell_type": "code",
   "execution_count": null,
   "id": "4046e844",
   "metadata": {
    "id": "4046e844"
   },
   "outputs": [],
   "source": [
    "# import packages\n",
    "from sklearn.linear_model import LinearRegression # linear regression \n",
    "from xgboost import XGBRegressor # XGboost \n",
    "from sklearn.metrics import mean_squared_error # mean square error (metric used to evaulate model)"
   ]
  },
  {
   "cell_type": "code",
   "execution_count": null,
   "id": "0cb83765",
   "metadata": {
    "id": "0cb83765"
   },
   "outputs": [],
   "source": [
    "# Model selection and implimentation (linear regression)\n",
    "reg = LinearRegression().fit(x_train,y_train)"
   ]
  },
  {
   "cell_type": "code",
   "execution_count": null,
   "id": "e6991a20",
   "metadata": {
    "id": "e6991a20"
   },
   "outputs": [],
   "source": [
    "reg.score(x_train,y_train)"
   ]
  },
  {
   "cell_type": "code",
   "execution_count": null,
   "id": "5cc231bf",
   "metadata": {
    "id": "5cc231bf"
   },
   "outputs": [],
   "source": [
    "reg.coef_"
   ]
  },
  {
   "cell_type": "code",
   "execution_count": null,
   "id": "84453906",
   "metadata": {
    "id": "84453906"
   },
   "outputs": [],
   "source": [
    "reg.intercept_"
   ]
  },
  {
   "cell_type": "code",
   "execution_count": null,
   "id": "b2e03052",
   "metadata": {
    "id": "b2e03052"
   },
   "outputs": [],
   "source": [
    "predicted_reg = reg.predict(x_test)"
   ]
  },
  {
   "cell_type": "code",
   "execution_count": null,
   "id": "989f80b0",
   "metadata": {
    "id": "989f80b0"
   },
   "outputs": [],
   "source": [
    "# Model Evaluation\n",
    "mean_squared_error(y_test, predicted_reg)"
   ]
  },
  {
   "cell_type": "code",
   "execution_count": null,
   "id": "261e0f22",
   "metadata": {
    "id": "261e0f22"
   },
   "outputs": [],
   "source": [
    "## making predictions using the XGBoost algorithm \n",
    "\n",
    "xg_model = XGBRegressor(n_estimators=100)\n",
    "xg_model.fit(x_train, y_train)\n",
    "predicted_XGBoost = xg_model.predict(x_test)\n"
   ]
  },
  {
   "cell_type": "code",
   "execution_count": null,
   "id": "fcbf1f4e",
   "metadata": {
    "id": "fcbf1f4e"
   },
   "outputs": [],
   "source": [
    "xg_model.score(x_train,y_train)"
   ]
  },
  {
   "cell_type": "code",
   "execution_count": null,
   "id": "246a6ee6",
   "metadata": {
    "id": "246a6ee6"
   },
   "outputs": [],
   "source": [
    "\n",
    "# Model Evaluation\n",
    "mean_squared_error(y_test, predicted_XGBoost)"
   ]
  },
  {
   "cell_type": "code",
   "execution_count": null,
   "id": "2cfac408",
   "metadata": {
    "id": "2cfac408"
   },
   "outputs": [],
   "source": []
  }
 ],
 "metadata": {
  "colab": {
   "collapsed_sections": [],
   "name": "1.2-EDA-Visualization-Learner.ipynb",
   "provenance": []
  },
  "kernelspec": {
   "display_name": "Python 3",
   "language": "python",
   "name": "python3"
  },
  "language_info": {
   "codemirror_mode": {
    "name": "ipython",
    "version": 3
   },
   "file_extension": ".py",
   "mimetype": "text/x-python",
   "name": "python",
   "nbconvert_exporter": "python",
   "pygments_lexer": "ipython3",
   "version": "3.8.8"
  }
 },
 "nbformat": 4,
 "nbformat_minor": 5
}
